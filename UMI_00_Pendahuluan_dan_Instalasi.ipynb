{
 "cells": [
  {
   "cell_type": "markdown",
   "metadata": {},
   "source": [
    "# http://tau-data.id/umi/"
   ]
  },
  {
   "cell_type": "markdown",
   "metadata": {
    "slideshow": {
     "slide_type": "slide"
    }
   },
   "source": [
    "<center><img alt=\"\" src=\"images/0_Cover.jpg\"/></center> \n",
    "\n",
    "## <center><font color=\"blue\">Module 00: Pendahuluan dan Instalasi</font></center>\n",
    "<b><center>(C) Taufik Sutanto - 2019</center>\n",
    "<center>tau-data Indonesia ~ https://tau-data.id</center>"
   ]
  },
  {
   "cell_type": "markdown",
   "metadata": {
    "slideshow": {
     "slide_type": "slide"
    }
   },
   "source": [
    "<center><img alt=\"\" src=\"images/0_About.jpg\" /></center>"
   ]
  },
  {
   "cell_type": "markdown",
   "metadata": {
    "slideshow": {
     "slide_type": "slide"
    }
   },
   "source": [
    "<center><img alt=\"\" src=\"images/0_myResearch.jpg\" /></center>"
   ]
  },
  {
   "cell_type": "markdown",
   "metadata": {
    "slideshow": {
     "slide_type": "slide"
    }
   },
   "source": [
    "# <font color=\"blue\">\" _Tak Kenal Maka Tak Sayang_ \"</font>\n",
    "\n",
    "<ul>\n",
    "\t<li>Nama, Dosen jurusan, mata kuliah yang diajarkan, bidang penelitan?</li>\n",
    "\t<li>Berapa banyak yang sudah belajar Data Mining/Machine Learning/Data Science sebelumnya? [Minimal 6 bulan]</li>\n",
    "\t<li>Siapa yang belum pernah menggunakan Python sama sekali?</li>\n",
    "\t<li>Ada yang belum familiar dengan bahasa pemrograman apapun?</li>\n",
    "</ul>\n",
    "\n",
    "## <font color=\"green\"> Ekspektasi workshop di Sticky Notes </font>\n",
    "<img alt=\"\" src=\"images/Introduction_Peserta.jpg\" />"
   ]
  },
  {
   "cell_type": "markdown",
   "metadata": {
    "slideshow": {
     "slide_type": "slide"
    }
   },
   "source": [
    "# <font color=\"blue\">WorkShop Objectives</font>\n",
    "\n",
    "* **Memperkenalkan** Big Data (BD), Data Science (DS), Machine Learning (ML), dan Artificial Intelligence (AI) serta potensinya dalam dunia Akademis, dan industri.\n",
    "* Membahas **trend** terkini BD dan AI dan prediksi pengembangannya di masa depan.\n",
    "* Memperkenalkan tools **Python** dalam menyelesaikan beberapa teknik Data Wrangling, Exploratory Data Analysis, dan Machine Learning pada data terstruktur.\n",
    "* Memperkenalkan pengolahan **data tidak terstruktur** (teks) yang berasal dari media sosial dan website.\n",
    "* Fokus ke **Text Mining**, NLP dibahas sebagai fondasi dasar Text Mining.\n",
    "* Kasus bahasa yang akan dibahas: **Inggris** dan **Indonesia**"
   ]
  },
  {
   "cell_type": "markdown",
   "metadata": {
    "slideshow": {
     "slide_type": "slide"
    }
   },
   "source": [
    "# <font color=\"blue\">Workshop Schedule</font>\n",
    "\n",
    "## <font color=\"green\">Hari ke-1 (Senin, 27 Jan 2020)</font>\n",
    "\n",
    "**Pendahuluan Pemrograman Python**\n",
    "* 09:00 – 10:00 \tPendahuluan Python instalasi\n",
    "* 10:00 – 11:00\tDasar Python\n",
    "* 11:00 – 12:00\tPython Logic\n",
    "* 13:00 – 14.00\tException & Function\n",
    "* 14:00 – 15:00\tPenggunaan & Instalasi Modul Python\n",
    "* 15:00 – 16:00\tPython as Numerical computing & Basic Visualizations\n",
    "\n",
    "Studi kasus: **importing and formating data**\n"
   ]
  },
  {
   "cell_type": "markdown",
   "metadata": {},
   "source": [
    "## <font color=\"green\">Hari ke-2 (Selasa, 28 Jan 2020)</font>\n",
    "\n",
    "**Pendahuluan Data Science I**\n",
    "* 09:00 – 11:00 Pendahuluan Data Science dan Big Data\n",
    "* 11:00 – 12:00\tPendahuluan Data Wrangling\n",
    "* 13:00 – 15:00\tPendahuluan Exploratory Data Analysis\n",
    "* 15:00 – 16.00\tLatihan Studi Kasus I\n",
    "\n",
    "Studi Kasus: **House Pricing**"
   ]
  },
  {
   "cell_type": "markdown",
   "metadata": {},
   "source": [
    "## <font color=\"green\">Hari ke-3 (Rabu, 29 Jan 2020)</font>\n",
    "\n",
    "**Pendahuluan Data Science II**\n",
    "* 09:00 – 11:00 Unsupervised Learning & Regresi\n",
    "* 11:00 – 12:00\tLatihan\n",
    "* 13:00 – 15:00\tSupervised Learning - Klasifikasi\n",
    "* 15:00 – 16.00\tLatihan Klasifikasi\n",
    "\n",
    "Studi Kasus: **Human Resources Analytics**"
   ]
  },
  {
   "cell_type": "markdown",
   "metadata": {},
   "source": [
    "## <font color=\"green\">Hari ke-4 (Kamis, 30 Jan 2020)</font>\n",
    "\n",
    "**Pendahuluan Natural Language Processing & Text PreProcessing**\n",
    "* 09:00 – 11:00 \tText Preprocessing\n",
    "* 11:00 – 12:00\tCrawling, Streaming, Scraping\n",
    "* 13:00 – 14:00\tText Analytics\n",
    "* 14:00 – 15.00\tSentiment Analysis\n",
    "* 15:00 – 16.00\tLatihan Text Analytics dan Sentiment Analysis \n",
    "\n",
    "Studi Kasus: **Text Analytics data media sosial perbincangan agama di media sosial**"
   ]
  },
  {
   "cell_type": "markdown",
   "metadata": {},
   "source": [
    "## <font color=\"green\">Hari ke-5 (Jumat, 30 Jan 2020)</font>\n",
    "\n",
    "**Social Media & network Analysis**\n",
    "* 09:00 – 11:00 \tTopic Modelling\n",
    "* 11:00 – 12:00\tLatihan Topic Modelling\n",
    "* 13:00 – 14:00\tPendahuluan Social Network Analytics\n",
    "* 14:00 – 15.00\tCentrality Analysis dan Community Detection\n",
    "* 15:00 – 16.00\tLatihan Centrality Analysis dan Community Detection \n",
    "\n",
    "Studi Kasus: **Sentiment Analysis dan Topic Modelling Kasus Banjir**"
   ]
  },
  {
   "cell_type": "markdown",
   "metadata": {},
   "source": [
    "<p><img alt=\"\" src=\"images\\1_Python_Modules.png\" /></p>"
   ]
  },
  {
   "cell_type": "markdown",
   "metadata": {
    "slideshow": {
     "slide_type": "slide"
    }
   },
   "source": [
    "# <font color=\"blue\">Workshop Requirements/Assumptions:</font>\n",
    "\n",
    "* Minor Mathematics & Statistics\n",
    "* Minor (any) programming language\n",
    "* Dikarenakan keterbatasan waktu, tidak memungkinkan membahas semua aspek Data Science/Text Mining\n",
    "* Workshop lebih fokus ke aplikasi, teori hanya diberikan filosofinya saja. Teori 20%, Aplikasi 60%, 10% diskusi atau Latihan\n",
    "* Case study dilakukan dalam kelompok/groups dan akan didiskusikan bersama."
   ]
  },
  {
   "cell_type": "markdown",
   "metadata": {
    "slideshow": {
     "slide_type": "slide"
    }
   },
   "source": [
    "# <font color=\"blue\"> Hardware Requirements:</font>\n",
    "\n",
    "Python Codes yang dibahas di workshop ini telah di verifikasi di lingkungan berikut:\n",
    "\n",
    "* Python 3.6.8 (**64 bit**) & OS Windows 10/Linux (Google Colab)\n",
    "* Program yang dijalankan di workshop ini membutuhkan **koneksi internet** saat di eksekusi.\n",
    "* Dianjurkan peserta mengupdate OS (Windows/Linux) sebelum mengikuti workshop.\n",
    "* Apple Macintosh **tidak disarankan** untuk digunakan untuk keperluan pengolahan data di Data Science/Machine Learning.\n",
    "\n",
    "Ekspektasi spesifikasi komputer ( **Online/Google Colab** ):\n",
    "* None\n",
    "\n",
    "Ekspektasi spesifikasi komputer ( **offline: WinPython/Anaconda** ):\n",
    "* **OS**: Windows/Linux **64bit with recent updates**\n",
    "* RAM 4Gb or More\n",
    "* CPU minimum 1 Ghz\n"
   ]
  },
  {
   "cell_type": "markdown",
   "metadata": {
    "slideshow": {
     "slide_type": "slide"
    }
   },
   "source": [
    "# <font color=\"blue\">Instalasi\n",
    "\n",
    "1. Menggunakan Google Colab seluruh link modul dapat diakses di link berikut: https://tau-data.id/umi/ \n",
    "2. Untuk mengunduh seluruh materi workshop silahkan unduh dari link github berikut: https://github.com/taufikedys/UMI\n",
    "3. Link untuk mengunduh program Python (WinPython) beserta modul workshop juga dapat dilakukan dari Link No. 1\n",
    "4. Instalasi python offline di Linux harap dilakukan sendiri menggunakan Anaconda: https://problemsolvingwithpython.com/01-Orientation/01.05-Installing-Anaconda-on-Linux/"
   ]
  },
  {
   "cell_type": "markdown",
   "metadata": {
    "slideshow": {
     "slide_type": "slide"
    }
   },
   "source": [
    "## <font color=\"blue\">API Keys twitter (digunakan pada hari Ke-4 dan 5)\n",
    "    \n",
    "* Setelah workshop hari pertama selesai, peserta \"disarankan\" untuk mendaftar twitter API Keys.\n",
    "* https://www.youtube.com/watch?v=KPHC2ygBak4\n",
    "  atau\n",
    "* https://www.youtube.com/watch?v=CvFRbHSvKAg\n",
    "* Untuk praktek scrapping peserta juga diharapkan menginstall browser <font color=\"blue\"> **FireFox** </font>\n",
    "\n",
    "### Tips dan Catatan:\n",
    "* Silahkan lakukan langkah-langkah diatas. Jika ada masalah bisa ditanyakan setelah workshop hari ke-2.\n",
    "* Saat mendaftar API Keys twitter sampaikan bahwa alasan kita apply adalah untuk keperluan riset/academic. Bagi pekerja dapat memberikan alasan \"mengembangkan App untuk client\".\n",
    "* Karena keterbatasan waktu, di workshop ini kita hanya akan menggunakan twitter."
   ]
  },
  {
   "cell_type": "markdown",
   "metadata": {},
   "source": [
    "# <font color=\"blue\">Resources Tambahan\n",
    "\n",
    "* Di setiap slide/cell biasanya terdapat link (tautan) pada istilah/konsep tertentu.\n",
    "* https://tau-data.id\n",
    "\n",
    "## Daftar Pustaka\n",
    "    \n",
    "* Chopra, D., Joshi, N., &amp; Mathur, I. (2016).&nbsp;<em>Mastering Natural Language Processing with Python. Packt Publishing Ltd.\n",
    "* Siddhartha Chatterjee, Michal Krystyanczuk. (2017).Python Social Media Analytics. Packt Publishing Ltd.\n",
    "* Farzindar, A., &amp; Inkpen, D. (2017). Natural language processing for social media. Synthesis Lectures on Human Language Technologies, 10(2), 1-195.\n",
    "* Kao, A., &amp; Poteet, S. R. (Eds.). (2007). Natural language processing and text mining. Springer Science Business Media.\n",
    "* Perkins, J. (2014). Python 3 Text Processing with NLTK 3 Cookbook. Packt Publishing Ltd.\n",
    "\n",
    "* Referensi eBook gratis: https://www.learndatasci.com/free-data-science-books/"
   ]
  },
  {
   "cell_type": "markdown",
   "metadata": {
    "slideshow": {
     "slide_type": "slide"
    }
   },
   "source": [
    "# <center><font color=\"blue\"> End of Module I.\n",
    "\n",
    "<hr />\n",
    "<img alt=\"\" src=\"images/meme_03.jpg\"/>"
   ]
  }
 ],
 "metadata": {
  "celltoolbar": "Slideshow",
  "kernelspec": {
   "display_name": "Python 3",
   "language": "python",
   "name": "python3"
  },
  "language_info": {
   "codemirror_mode": {
    "name": "ipython",
    "version": 3
   },
   "file_extension": ".py",
   "mimetype": "text/x-python",
   "name": "python",
   "nbconvert_exporter": "python",
   "pygments_lexer": "ipython3",
   "version": "3.6.8"
  }
 },
 "nbformat": 4,
 "nbformat_minor": 2
}
