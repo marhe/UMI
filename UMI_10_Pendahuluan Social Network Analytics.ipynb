{
 "cells": [
  {
   "cell_type": "markdown",
   "metadata": {},
   "source": [
    "# http://tau-data.id/umi/"
   ]
  },
  {
   "cell_type": "markdown",
   "metadata": {
    "slideshow": {
     "slide_type": "slide"
    }
   },
   "source": [
    "<center><img alt=\"\" src=\"images/0_Cover.jpg\"/></center> \n",
    "\n",
    "## <center><font color=\"blue\">Modul 10: Pendahuluan Social Network Analysis</font></center>\n",
    "<b><center>(C) Taufik Sutanto - 2019</center>\n",
    "<center>tau-data Indonesia ~ https://tau-data.id ~ taufik@tau-data.id</center>"
   ]
  },
  {
   "cell_type": "markdown",
   "metadata": {},
   "source": [
    "## <center><font color=\"blue\">Pendahuluan Social Network Analysis</font></center>\n",
    "<img alt=\"\" src=\"images/PDS_logo.jpg\" />"
   ]
  },
  {
   "cell_type": "markdown",
   "metadata": {
    "slideshow": {
     "slide_type": "slide"
    }
   },
   "source": [
    "# <font color=\"blue\">Workshop Schedule</font>\n",
    "\n",
    "## <font color=\"green\">Hari ke-5 (Jumat, 30 Jan 2020)</font>\n",
    "\n",
    "**Social Media & network Analysis**\n",
    "* 09:00 – 11:00 \tTopic Modelling\n",
    "* 11:00 – 12:00\tLatihan Topic Modelling\n",
    "* 13:00 – 14:00\tPendahuluan Social Network Analytics\n",
    "* 14:00 – 15.00\tCentrality Analysis dan Community Detection\n",
    "* 15:00 – 16.00\tLatihan Centrality Analysis dan Community Detection \n",
    "\n",
    "Studi Kasus: **Sentiment Analysis dan Topic Modelling Kasus Banjir**\n"
   ]
  },
  {
   "cell_type": "markdown",
   "metadata": {
    "slideshow": {
     "slide_type": "slide"
    }
   },
   "source": [
    "## <font color=\"blue\">Outline SNA :</font>\n",
    "* Review Graph\n",
    "* Centrality Analysis\n",
    "* Graph Partitioning\n",
    "* Community Detection\n",
    "* Discussion on Final Project"
   ]
  },
  {
   "cell_type": "markdown",
   "metadata": {},
   "source": [
    "<h1 id=\"Sejarah\">Sejarah</h1>\n",
    "\n",
    "<ul>\n",
    "\t<li>1736: Leonhard Euler - Basel, 1707-St. Petersburg, 1786</li>\n",
    "\t<li>Mampu mengungkap misteri Jembatan Konigsberg di Prussia (saat ini Kaliningrad, Russia) </li>\n",
    "</ul>\n",
    "<img alt=\"\" src=\"images/Konigsberg_bridge.png\" />"
   ]
  },
  {
   "cell_type": "markdown",
   "metadata": {},
   "source": [
    "<h1 id=\"Graph\">Graph (Definisi)</h1>\n",
    "\n",
    "<ul>\n",
    "\t<ul>\n",
    "\t\t<li>Suatu Graph G adalah koleksi atau pasangan dari dua himpunan V dan E dengan</li>\n",
    "\t\t<li>V = V(G) = himpunan verteks atau simpul atau node.</li>\n",
    "\t\t<li>E = E(G) = himpunan edge atau ruas atau sisi.</li>\n",
    "\t</ul>\n",
    "    <li><img alt=\"\" src=\"images/contoh_graph.png\" style=\"width: 700px; height: 326px;\" /></li>\n",
    "</ul>"
   ]
  },
  {
   "cell_type": "markdown",
   "metadata": {},
   "source": [
    "<h1 id=\"Graph-Types\">Graph Types</h1>\n",
    "\n",
    "<p><img alt=\"\" src=\"images/Tipe_Graph.png\" style=\"width: 629px; height: 866px;\" /></p>\n"
   ]
  },
  {
   "cell_type": "markdown",
   "metadata": {},
   "source": [
    "<h1 id=\"Shortest-Path-and-Cycles\">Shortest Path and Cycles</h1>\n",
    "\n",
    "<p><img alt=\"\" src=\"images/path_cycles.png\" style=\"width: 800px; height: 342px;\" /></p>\n"
   ]
  },
  {
   "cell_type": "markdown",
   "metadata": {},
   "source": [
    "<h1 id=\"Degree/Derajat-Vertex\">Degree/Derajat Vertex</h1>\n",
    "\n",
    "<p><img alt=\"\" src=\"images/degree_vertex_graph.png\" style=\"width: 700px; height: 374px;\" /></p>\n"
   ]
  },
  {
   "cell_type": "markdown",
   "metadata": {},
   "source": [
    "<h1 id=\"Bipartite-Graph\">Bipartite Graph</h1>\n",
    "\n",
    "<p><img alt=\"\" src=\"images/Graph_Bipartite.png\" style=\"width: 800px; height: 407px;\" /></p>\n"
   ]
  },
  {
   "cell_type": "markdown",
   "metadata": {},
   "source": [
    "<h1 id=\"Graph-Representation\">Graph Representation</h1>\n",
    "\n",
    "<p><img alt=\"\" src=\"images/adjacency_matrix.png\" style=\"width: 800px; height: 516px;\" /></p>\n"
   ]
  },
  {
   "cell_type": "markdown",
   "metadata": {},
   "source": [
    "<p><img alt=\"\" src=\"images/incidence_matrix.png\" style=\"width: 800px; height: 469px;\" /></p>\n"
   ]
  },
  {
   "cell_type": "markdown",
   "metadata": {},
   "source": [
    "<h1 id=\"Graph-Isomorphism\">Graph Isomorphism</h1>\n",
    "\n",
    "<p><img alt=\"\" src=\"images/isomorphic_graphs.png\" style=\"width: 800px; height: 476px;\" /></p>\n"
   ]
  },
  {
   "cell_type": "markdown",
   "metadata": {},
   "source": [
    "<h1 id=\"Pemodelan-Graph-untuk-Penyelesaian-Masalah\">Pemodelan Graph untuk Penyelesaian Masalah</h1>\n",
    "\n",
    "<p><img alt=\"\" src=\"images/Graph_Modelling.png\" style=\"width: 800px; height: 496px;\" /></p>\n"
   ]
  },
  {
   "cell_type": "markdown",
   "metadata": {},
   "source": [
    "<h1 id=\"Graph-Applications\">Graph Applications</h1>\n",
    "\n",
    "<p><img alt=\"\" src=\"images/graph_applications.png\" style=\"width: 800px; height: 497px;\" /></p>\n"
   ]
  },
  {
   "cell_type": "markdown",
   "metadata": {},
   "source": [
    "<h1 id=\"Graph-in-Social-Media-Analytic\">Graph in Social Media Analytic</h1>\n",
    "\n",
    "<p><img alt=\"\" src=\"images/SNA.png\" style=\"width: 400px; height: 414px;\" /></p>\n"
   ]
  },
  {
   "cell_type": "markdown",
   "metadata": {},
   "source": [
    "# Mari mulai dengan Membuat Graph Sederhana (Toy Data)\n",
    "\n",
    "### 1. Mendefinisikan Graph\n",
    "### 2. Menambahkan Vertex dan Edge\n",
    "### 3. Graph Properties\n",
    "### 4. Visualisasi Graph"
   ]
  },
  {
   "cell_type": "code",
   "execution_count": null,
   "metadata": {},
   "outputs": [],
   "source": [
    "# 1. Mendefinisikan Graph (kosong)\n",
    "import networkx as nx\n",
    "\n",
    "G = nx.Graph()\n",
    "G"
   ]
  },
  {
   "cell_type": "code",
   "execution_count": null,
   "metadata": {},
   "outputs": [],
   "source": [
    "V = [1, 2, 7, 9, 12, 19] # Bisa juga string, misal \"A\" atau nama \"Budi\"\n",
    "E = [(1,2), (2,19), (9,2), (9,1), (2,8), (8,10), (12,7),(7,2), (7,9)] # Perhatikan \"8\" dan \"10\" TIDAK ADA di V\n",
    "\n",
    "G.add_nodes_from(V)\n",
    "G.add_edges_from(E)\n",
    "\n",
    "print('Banyak vertex = ', G.number_of_nodes())\n",
    "print('Banyak Edges = ', G.number_of_edges())"
   ]
  },
  {
   "cell_type": "code",
   "execution_count": null,
   "metadata": {},
   "outputs": [],
   "source": [
    "# Draw Graph # https://networkx.github.io/documentation/networkx-1.10/reference/drawing.html#layout\n",
    "import matplotlib.pyplot as plt\n",
    "\n",
    "pos = nx.spring_layout(G) # Spring LayOut\n",
    "\n",
    "nx.draw_networkx_nodes(G,pos, alpha=0.1,node_color='blue',node_size=800) # Gambar Vertex\n",
    "nx.draw_networkx_edges(G,pos,width=1) # Gambar edges\n",
    "nx.draw_networkx_labels(G,pos) #Gambar Label Nodes\n",
    "plt.show() # Show the graph"
   ]
  },
  {
   "cell_type": "code",
   "execution_count": null,
   "metadata": {},
   "outputs": [],
   "source": [
    "# Ingat Graph Isomorphism?\n",
    "pos=nx.circular_layout(G) # Circular Layout\n",
    "\n",
    "nx.draw_networkx_nodes(G,pos) # Gambar Vertex\n",
    "nx.draw_networkx_edges(G,pos,width=2) # Gambar edges\n",
    "nx.draw_networkx_labels(G,pos) #Gambar Label Nodes\n",
    "plt.show() # Show the graph"
   ]
  },
  {
   "cell_type": "code",
   "execution_count": null,
   "metadata": {},
   "outputs": [],
   "source": [
    "pos = nx.random_layout(G) # Random\n",
    "\n",
    "nx.draw_networkx_nodes(G,pos, alpha=0.2,node_color='blue',node_size=600) # Gambar Vertex\n",
    "nx.draw_networkx_edges(G,pos,width=2) # Gambar edges\n",
    "nx.draw_networkx_labels(G,pos) #Gambar Label Nodes\n",
    "plt.show() # Show the graph"
   ]
  },
  {
   "cell_type": "code",
   "execution_count": null,
   "metadata": {},
   "outputs": [],
   "source": [
    "shell = [[1,2,7,9],[12,19,8,10]]\n",
    "pos = nx.shell_layout(G, shell) # Shells\n",
    "\n",
    "nx.draw_networkx_nodes(G,pos, alpha=0.2,node_color='blue',node_size=600) # Gambar Vertex\n",
    "nx.draw_networkx_edges(G,pos,width=2) # Gambar edges\n",
    "nx.draw_networkx_labels(G,pos) #Gambar Label Nodes\n",
    "plt.show() # Show the graph"
   ]
  },
  {
   "cell_type": "code",
   "execution_count": null,
   "metadata": {},
   "outputs": [],
   "source": [
    "pos=nx.spectral_layout(G) # Spectral\n",
    "\n",
    "nx.draw_networkx_nodes(G,pos, alpha=0.2,node_color='blue',node_size=600) # Gambar Vertex\n",
    "nx.draw_networkx_edges(G,pos,width=2) # Gambar edges\n",
    "nx.draw_networkx_labels(G,pos) #Gambar Label Nodes\n",
    "plt.show() # Show the graph"
   ]
  },
  {
   "cell_type": "markdown",
   "metadata": {},
   "source": [
    "# PyGraphVis (Demonstration)"
   ]
  },
  {
   "cell_type": "code",
   "execution_count": null,
   "metadata": {},
   "outputs": [],
   "source": [
    "from graphviz import Digraph\n",
    "\n",
    "f = Digraph('finite_state_machine', filename='fsm.gv')\n",
    "f.attr(rankdir='LR', size='8,5')\n",
    "f.attr('node', shape='doublecircle')\n",
    "f.node('LR_0'); f.node('LR_3')\n",
    "f.node('LR_4');f.node('LR_8')\n",
    "f.attr('node', shape='circle')\n",
    "f.edge('LR_0', 'LR_2', label='SS(B)'); f.edge('LR_0', 'LR_1', label='SS(S)')\n",
    "f.edge('LR_1', 'LR_3', label='S($end)'); f.edge('LR_2', 'LR_6', label='SS(b)')\n",
    "f.edge('LR_2', 'LR_5', label='SS(a)'); f.edge('LR_2', 'LR_4', label='S(A)')\n",
    "f.edge('LR_5', 'LR_7', label='S(b)'); f.edge('LR_5', 'LR_5', label='S(a)')\n",
    "f.edge('LR_6', 'LR_6', label='S(b)'); f.edge('LR_6', 'LR_5', label='S(a)')\n",
    "f.edge('LR_7', 'LR_8', label='S(b)'); f.edge('LR_7', 'LR_5', label='S(a)')\n",
    "f.edge('LR_8', 'LR_6', label='S(b)'); f.edge('LR_8', 'LR_5', label='S(a)')\n",
    "f"
   ]
  },
  {
   "cell_type": "code",
   "execution_count": null,
   "metadata": {},
   "outputs": [],
   "source": [
    "# Hapus Vertex/Edges\n",
    "G.remove_node(19)\n",
    "G.remove_edge(1, 2)\n",
    "\n",
    "pos=nx.spectral_layout(G) # Spectral\n",
    "\n",
    "nx.draw_networkx_nodes(G,pos, alpha=0.1,node_color='blue',node_size=800) # Gambar Vertex\n",
    "nx.draw_networkx_edges(G,pos,width=2, alpha=0.1) # Gambar edges\n",
    "nx.draw_networkx_labels(G,pos, size=1000) #Gambar Label Nodes\n",
    "plt.show() # Show the graph"
   ]
  },
  {
   "cell_type": "code",
   "execution_count": null,
   "metadata": {},
   "outputs": [],
   "source": [
    "# Degree\n",
    "G.degree[10] "
   ]
  },
  {
   "cell_type": "markdown",
   "metadata": {},
   "source": [
    "<h1 id=\"(Shortest)-Path\">(Shortest) Path</h1>\n",
    "\n",
    "<p><img alt=\"\" src=\"images/shortest_path.png\" style=\"width: 690px; height: 414px;\" /></p>\n"
   ]
  },
  {
   "cell_type": "code",
   "execution_count": null,
   "metadata": {},
   "outputs": [],
   "source": [
    "print(nx.shortest_path(G, source=9, target=10))\n",
    "\n",
    "\n",
    "pos=nx.spectral_layout(G)\n",
    "nx.draw_networkx_nodes(G,pos, alpha=0.1,node_color='blue',node_size=800) # Gambar Vertex\n",
    "nx.draw_networkx_edges(G,pos,width=2, alpha=0.1) # Gambar edges\n",
    "nx.draw_networkx_labels(G,pos, size=1000) #Gambar Label Nodes\n",
    "plt.show() # Show the graph"
   ]
  },
  {
   "cell_type": "markdown",
   "metadata": {},
   "source": [
    "<h1 id=\"Graph-From-Social-media\">Graph From Social media</h1>\n",
    "\n",
    "<h3 id=\"Mentions,-Followers,-Friends\">Mentions, Followers, Friends</h3>\n",
    "\n",
    "<p><img alt=\"\" src=\"images/SNA_Graph_Types.png\" style=\"width: 700px; height: 443px;\" /></p>\n"
   ]
  },
  {
   "cell_type": "code",
   "execution_count": null,
   "metadata": {},
   "outputs": [],
   "source": [
    "# \"Contoh\" API Keys (Sesuaikan dengan API keys masing-masing)\n",
    "# consumer_key, consumer_secret, access_token, access_secret\n",
    "import warnings; warnings.simplefilter('ignore')\n",
    "import TSutanto_lib as TS\n",
    "\n",
    "Ck = 'koEdSiixWb5i0dL0eucivnzL'\n",
    "Cs = 'BlkKig18Qjywwx8LwcbXFZ9FNWASf4rwsKedJh8autMJ5QpNQc'\n",
    "At = '2214118411-O56nMT4vYEWbdcIkr9bRFxVrBk6Sj15aUOdXuxx'\n",
    "As = 'yZmK4hxlskXDWxtMabrHi2r3rM5QpNKq8fvEB2k1Ikslt'\n",
    "\n",
    "# Koneksi ke twitter\n",
    "twitter = TS.twitter_connect(Ck, Cs, At, As)"
   ]
  },
  {
   "cell_type": "code",
   "execution_count": null,
   "metadata": {
    "scrolled": true
   },
   "outputs": [],
   "source": [
    "topic = '@susipudjiastuti tanya'\n",
    "n = 999 # Contoh jumlah tweet yang ingin diambil\n",
    "Tweets = TS.getTweets(twitter, topic, N = n) # lan = 'id' atau 'en' ..."
   ]
  },
  {
   "cell_type": "code",
   "execution_count": null,
   "metadata": {},
   "outputs": [],
   "source": [
    "[t['full_text'] for t in Tweets[:7]]"
   ]
  },
  {
   "cell_type": "code",
   "execution_count": null,
   "metadata": {},
   "outputs": [],
   "source": [
    "# Draw the Tweet Graph\n",
    "G = TS.Graph(Tweets,Label = False, layOut='shell')"
   ]
  },
  {
   "cell_type": "code",
   "execution_count": null,
   "metadata": {},
   "outputs": [],
   "source": [
    "G = TS.Graph(Tweets,Label = False, layOut='circular')"
   ]
  },
  {
   "cell_type": "code",
   "execution_count": null,
   "metadata": {},
   "outputs": [],
   "source": [
    "G = TS.Graph(Tweets,Label = False, layOut='random')"
   ]
  },
  {
   "cell_type": "code",
   "execution_count": null,
   "metadata": {},
   "outputs": [],
   "source": [
    "%matplotlib qt\n",
    "G = TS.Graph(Tweets,Label = False, layOut='shells')"
   ]
  },
  {
   "cell_type": "code",
   "execution_count": null,
   "metadata": {},
   "outputs": [],
   "source": [
    "%matplotlib inline \n",
    "\n",
    "G = TS.Graph(Tweets,Label = False, layOut='spectral')"
   ]
  },
  {
   "cell_type": "code",
   "execution_count": null,
   "metadata": {},
   "outputs": [],
   "source": [
    "G = TS.Graph(Tweets,Label = True, layOut='spring')"
   ]
  },
  {
   "cell_type": "markdown",
   "metadata": {},
   "source": [
    "<h2>I. Centrality&nbsp;Analysis</h2>\n",
    "\n",
    "<p>Bertujuan untuk menemukan pengguna yang paling berpengaruh dalam suatu topik pembicaraan di media sosial. Analisanya biasanya dilakukan melalui data graph dari hubungan jaringan pertemanan (follower/friend) antar pengguna atau komunikasi antar pengguna (mentions).</p>\n",
    "\n",
    "<p><img alt=\"\" src=\"images/8_SMA_Centrality.JPG\" style=\"height: 400px ; width: 600px\" /></p>\n"
   ]
  },
  {
   "cell_type": "markdown",
   "metadata": {},
   "source": [
    "<h1 id=\"Centrality-by-Degree\">Centrality by Degree</h1>\n",
    "\n",
    "<p><img alt=\"\" src=\"images/Degree_Centrality.png\" style=\"width: 800px; height: 505px;\" /></p>\n",
    "\n",
    "## Apakah interpretasinya?"
   ]
  },
  {
   "cell_type": "code",
   "execution_count": null,
   "metadata": {},
   "outputs": [],
   "source": [
    "# Let's now examine, who are the most \"important\" users in this Graph?\n",
    "Gt = TS.Centrality(G, N=10, method='degree', outliers=False, Label = True, layOut='spring')"
   ]
  },
  {
   "cell_type": "markdown",
   "metadata": {},
   "source": [
    "<h1 id=\"Closeness-Centrality\">Closeness Centrality</h1>\n",
    "\n",
    "<p><img alt=\"\" src=\"images/closeness_centrality.png\" style=\"width: 700px; height: 320px;\" /></p>\n"
   ]
  },
  {
   "cell_type": "code",
   "execution_count": null,
   "metadata": {},
   "outputs": [],
   "source": [
    "Gt = TS.Centrality(G, N=10, method='closeness', outliers=False, Label = True, layOut='spring')"
   ]
  },
  {
   "cell_type": "markdown",
   "metadata": {},
   "source": [
    "<h1 id=\"Betweenness-Centrality\">Betweenness Centrality</h1>\n",
    "\n",
    "<p><img alt=\"\" src=\"images/betweeness_Centrality.png\" style=\"width: 700px; height: 368px;\" /></p>\n"
   ]
  },
  {
   "cell_type": "code",
   "execution_count": null,
   "metadata": {},
   "outputs": [],
   "source": [
    "Gt = TS.Centrality(G, N=10, method='closeness', outliers=False, Label = True, layOut='spring')"
   ]
  },
  {
   "cell_type": "markdown",
   "metadata": {},
   "source": [
    "# Eigenvector Centrality\n",
    "\n",
    "<p><img alt=\"\" src=\"images/Eigenvector_Centrality_1.png\" style=\"width: 685px; height: 430px;\" /></p>\n",
    "\n",
    "### Digunakan juga oleh Google dalam Algoritma PageRank-nya untuk menentukan halaman web terpenting."
   ]
  },
  {
   "cell_type": "markdown",
   "metadata": {},
   "source": [
    "<p><img alt=\"\" src=\"images/Eigenvector_Centrality_0_.png\" style=\"width: 685px; height: 430px;\" /></p>"
   ]
  },
  {
   "cell_type": "code",
   "execution_count": null,
   "metadata": {},
   "outputs": [],
   "source": [
    "Gt = TS.Centrality(G, N=10, method='eigen', outliers=False, Label = True, layOut='spring')"
   ]
  },
  {
   "cell_type": "code",
   "execution_count": null,
   "metadata": {},
   "outputs": [],
   "source": [
    "# Menggunakan centrality measure untuk merubah tampilan Graph\n",
    "## Contoh dengan graph generators https://networkx.github.io/documentation/networkx-1.10/reference/generators.html\n",
    "\n",
    "#g = nx.dorogovtsev_goltsev_mendes_graph(3)\n",
    "g = nx.karate_club_graph()\n",
    "\n",
    "pos = nx.spring_layout(g) # Spring LayOut\n",
    "nx.draw_networkx_nodes(g,pos, alpha=0.2,node_color='blue',node_size=600) # Gambar Vertex\n",
    "nx.draw_networkx_edges(g,pos,width=2,alpha=0.1) # Gambar edges\n",
    "nx.draw_networkx_labels(g,pos) #Gambar Label Nodes\n",
    "plt.show() # Show the graph"
   ]
  },
  {
   "cell_type": "code",
   "execution_count": null,
   "metadata": {},
   "outputs": [],
   "source": [
    "# Menggunakan Centrality measure (misal degree) untuk merubah ukuran node\n",
    "\n",
    "K = 100 # Scale factor\n",
    "d = nx.degree(g) \n",
    "d = [d[node]*K for node in g.nodes()]\n",
    "\n",
    "pos = nx.spring_layout(g) # Spring LayOut\n",
    "nx.draw_networkx_nodes(g,pos,node_size=d) # Gambar Vertex\n",
    "nx.draw_networkx_edges(g,pos,width=2,alpha=0.15) # Gambar edges\n",
    "nx.draw_networkx_labels(g,pos) #Gambar Label Nodes\n",
    "plt.show() # Show the graph"
   ]
  },
  {
   "cell_type": "code",
   "execution_count": null,
   "metadata": {},
   "outputs": [],
   "source": [
    "# Menggunakan tingkat \"kepentingan\" sebagai warna\n",
    "ranking = nx.degree_centrality(g)\n",
    "warna = list(ranking.values())\n",
    "print(warna)"
   ]
  },
  {
   "cell_type": "code",
   "execution_count": null,
   "metadata": {},
   "outputs": [],
   "source": [
    "pos = nx.spring_layout(g) # Spring LayOut\n",
    "nx.draw_networkx_nodes(g,pos, node_color=warna,node_size=d) # Gambar Vertex\n",
    "nx.draw_networkx_edges(g,pos,width=2,alpha=0.1) # Gambar edges\n",
    "nx.draw_networkx_labels(g,pos) #Gambar Label Nodes\n",
    "plt.show() # Show the graph"
   ]
  },
  {
   "cell_type": "markdown",
   "metadata": {},
   "source": [
    "<h1 id=\"Summary\">Summary</h1>\n",
    "\n",
    "<p><img alt=\"\" src=\"images/Centrality_Interpretations.png\" style=\"width: 659px; height: 349px;\" /></p>\n",
    "\n",
    "### Coba diskusikan optimal use case dari masing-masing metric ini."
   ]
  },
  {
   "cell_type": "markdown",
   "metadata": {},
   "source": [
    "<h2>II. Community Detection (CD)</h2>\n",
    "\n",
    "<p>CD dilakukan pada data jaringan media sosial untuk menemukan komunitas-komunitas dalam pertemanan atau pembicaraan di media sosial. Secara sederhana CD dapat dimengerti sebagai proses \"semacam clustering\" (pengelompokan) , namun atas suatu graph.</p>\n",
    "\n",
    "<img alt=\"\" src=\"images/8_SMA_Community.JPG\" style=\"height: 400px ; width: 600px\" />\n"
   ]
  },
  {
   "cell_type": "markdown",
   "metadata": {},
   "source": [
    "# Bipartition (Bisection) Partitioning\n",
    "\n",
    "* <img alt=\"\" src=\"images/KL_Algorithms.png\" />\n",
    "* This algorithm paritions a network into two sets by iteratively swapping pairs of nodes to reduce the edge cut between the two sets.\n",
    "* https://www.youtube.com/watch?v=MMlf66PQdN8\n",
    "* Paper: Kernighan, B. W.; Lin, Shen (1970). “An efficient heuristic procedure for partitioning graphs.” Bell Systems Technical Journal 49: 291–307. Oxford University Press 2011."
   ]
  },
  {
   "cell_type": "code",
   "execution_count": null,
   "metadata": {},
   "outputs": [],
   "source": [
    "B = nx.algorithms.community.kernighan_lin_bisection(g)\n",
    "B"
   ]
  },
  {
   "cell_type": "code",
   "execution_count": null,
   "metadata": {},
   "outputs": [],
   "source": [
    "warna = []\n",
    "for v in B[0]:\n",
    "    warna.append(1)\n",
    "for v in B[1]:\n",
    "    warna.append(2)"
   ]
  },
  {
   "cell_type": "code",
   "execution_count": null,
   "metadata": {},
   "outputs": [],
   "source": [
    "pos = nx.shell_layout(g, B)\n",
    "nx.draw_networkx_nodes(g,pos, node_color=warna,node_size=d) # Gambar Vertex\n",
    "nx.draw_networkx_edges(g,pos,width=2,alpha=0.1) # Gambar edges\n",
    "nx.draw_networkx_labels(g,pos) #Gambar Label Nodes\n",
    "plt.show() # Show the graph"
   ]
  },
  {
   "cell_type": "markdown",
   "metadata": {},
   "source": [
    "<p><img alt=\"\" src=\"images/Partitioning_VS_Clustering_Graph.png\" style=\"width: 800px; height: 428px;\" /></p>"
   ]
  },
  {
   "cell_type": "markdown",
   "metadata": {},
   "source": [
    "# Graph Clustering via \"Modularity\"\n",
    "\n",
    "* Modules biasa disebut juga groups, clusters atau communities\n",
    "* Terdapat berbagai cara dalam menghitung \"Modularity\" (contoh dibawah)\n",
    "* Graph with high modularity have dense connections between the nodes within \"modules\" but sparse connections between nodes in different modules.\n",
    "* Salah satu metodenya : Greedy Modularity Maximization (GMM)\n",
    "* GMM begins with each node in its own community and joins the pair of communities that most increases modularity until no such pair exists.\n",
    "* Clauset, A., Newman, M. E., & Moore, C. “Finding community structure in very large networks.” Physical Review E 70(6), 2004.\n",
    "* Other resources for study: https://slideplayer.com/slide/7050174/\n",
    "\n",
    "<img alt=\"\" src=\"images/Graph_Modularity.png\" />"
   ]
  },
  {
   "cell_type": "code",
   "execution_count": null,
   "metadata": {},
   "outputs": [],
   "source": [
    "# WARNING!!!... Hanya bisa jika networkX versi 2.2 ke atas \n",
    "M = nx.algorithms.community.greedy_modularity_communities(g)\n",
    "print(M)"
   ]
  },
  {
   "cell_type": "code",
   "execution_count": null,
   "metadata": {},
   "outputs": [],
   "source": [
    "W = []\n",
    "warna = 1\n",
    "for module in M:\n",
    "    for node in module:\n",
    "        W.append(warna)\n",
    "    warna = warna +1\n",
    "print(W)"
   ]
  },
  {
   "cell_type": "code",
   "execution_count": null,
   "metadata": {},
   "outputs": [],
   "source": [
    "pos = nx.shell_layout(g, M)\n",
    "nx.draw_networkx_nodes(g,pos, node_color=W,node_size=d) # Gambar Vertex\n",
    "nx.draw_networkx_edges(g,pos,width=2,alpha=0.1) # Gambar edges\n",
    "nx.draw_networkx_labels(g,pos) #Gambar Label Nodes\n",
    "plt.show() # Show the graph"
   ]
  },
  {
   "cell_type": "markdown",
   "metadata": {},
   "source": [
    "<p><img alt=\"\" src=\"images/Gephi.jpg\" style=\"width: 580px; height: 358px;\" /></p>\n"
   ]
  },
  {
   "cell_type": "markdown",
   "metadata": {
    "slideshow": {
     "slide_type": "slide"
    }
   },
   "source": [
    "# <center><font color=\"blue\"> End of Module 10 : End of Workshop\n",
    "\n",
    "<hr />\n",
    "<p><img alt=\"\" src=\"images/8_twitter_140_char.jpg\" /></p>"
   ]
  }
 ],
 "metadata": {
  "celltoolbar": "Slideshow",
  "kernelspec": {
   "display_name": "Python 3",
   "language": "python",
   "name": "python3"
  },
  "language_info": {
   "codemirror_mode": {
    "name": "ipython",
    "version": 3
   },
   "file_extension": ".py",
   "mimetype": "text/x-python",
   "name": "python",
   "nbconvert_exporter": "python",
   "pygments_lexer": "ipython3",
   "version": "3.6.8"
  }
 },
 "nbformat": 4,
 "nbformat_minor": 2
}
