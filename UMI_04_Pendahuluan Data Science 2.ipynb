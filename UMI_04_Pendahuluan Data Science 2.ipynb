{
 "cells": [
  {
   "cell_type": "markdown",
   "metadata": {},
   "source": [
    "# http://tau-data.id/umi/"
   ]
  },
  {
   "cell_type": "markdown",
   "metadata": {
    "slideshow": {
     "slide_type": "slide"
    }
   },
   "source": [
    "<center><img alt=\"\" src=\"images/0_Cover.jpg\"/></center> \n",
    "\n",
    "## <center><font color=\"blue\">Modul 04: Pendahuluan Data Science II</font></center>\n",
    "<b><center>(C) Taufik Sutanto - 2019</center>\n",
    "<center>tau-data Indonesia ~ https://tau-data.id ~ taufik@tau-data.id</center>"
   ]
  },
  {
   "cell_type": "markdown",
   "metadata": {},
   "source": [
    "## <center><font color=\"blue\">Pendahuluan Data Science II: Basic Statistics, Missing Values, and Outliers</font></center>\n",
    "<img alt=\"\" src=\"images/PDS_logo.jpg\" />"
   ]
  },
  {
   "cell_type": "markdown",
   "metadata": {
    "slideshow": {
     "slide_type": "slide"
    }
   },
   "source": [
    "# <font color=\"blue\">Workshop Schedule</font>\n",
    "\n",
    "## <font color=\"green\">Hari ke-2 (Selasa, 28 Jan 2020)</font>\n",
    "\n",
    "**Pendahuluan Data Science I**\n",
    "* 09:00 – 11:00 Pendahuluan Data Science dan Big Data\n",
    "* 11:00 – 12:00\tPendahuluan Exploratory Data Analysis\n",
    "* 13:00 – 15:00\tBasic Statistics, Missing Values, & Outliers\n",
    "* 15:00 – 16.00\tLatihan Studi Kasus I\n",
    "\n",
    "Studi Kasus: **Restaurant Tips**\n"
   ]
  },
  {
   "cell_type": "markdown",
   "metadata": {
    "slideshow": {
     "slide_type": "subslide"
    }
   },
   "source": [
    "<h1 id=\"Tipe-tipe-Data\">Tipe-tipe Data</h1>\n",
    "\n",
    "<p><img alt=\"\" src=\"images/data_types.gif\" /></p>"
   ]
  },
  {
   "cell_type": "markdown",
   "metadata": {
    "slideshow": {
     "slide_type": "subslide"
    }
   },
   "source": [
    "<h2 id=\"Secara-Umum\">Secara Umum</h2>\n",
    "\n",
    "<p><img alt=\"\" src=\"images/dataScience_models.gif\"/></p>\n",
    "\n",
    "<p>Yang tidak dibahas di MK Data Mining:&nbsp;data tersensor (Survival Analysis),&nbsp;Bayesian approaches,&nbsp;Semi-Supervised, Fuzzy, etc.</p>\n"
   ]
  },
  {
   "cell_type": "markdown",
   "metadata": {},
   "source": [
    "# Pendahuluan:\n",
    "\n",
    "Exploratory Data Analysis (EDA) bagaikan jiwa bagi semua proses analisa data. Kemampuan untuk melakukan EDA dengan baik adalah syarat dasar utama bagi seluruh profesi yang terkait dengan pengolahan data, baik itu business intelligence, data analyst, data scientist, dan sebagainya. EDA juga menjadi tahapan awal dari kebanyakan proses analisa data dan menjadi suatu tahapan yang amat menentukan seberapa baik analisa data selanjutnya akan dihasilkan.\n",
    "\n",
    "Komponen EDA meliputi preprocessing, perhitungan berbagai nilai statistics dasar (e.g. ukuran pusat dan penyebaran data), visualisasi, penyusunan hipotesis (dugaan awal), pemeriksaan asumsi, hingga story-telling dan reporting. Di dalamnya juga termasuk proses penanganan missing values, outlier, reduksi dimensi, pengelompokkan, transformasi dan distribusi data."
   ]
  },
  {
   "cell_type": "markdown",
   "metadata": {},
   "source": [
    "# Exploratory Data Analysis (EDA)\n",
    "\n",
    "* Diperkenalkan oleh John Tukey 1961: \" _Procedures for analyzing data, techniques for interpreting the results of such procedures, ways of planning the gathering of data to make its analysis easier, more precise or more accurate, and all the machinery and results of (mathematical) statistics which apply to analyzing data._\"\n",
    "* Tukey promoted the use of five number summary of numerical data—the two extremes (maximum and minimum), the median, and the quartiles.\n",
    "* EDA refers to the critical process of performing **initial investigations on data** so as to discover patterns,to spot **anomalies**,to test hypothesis and to **check assumptions** with the help of **summary statistics and graphical representations**.\n",
    "* Tools: Python, R, S-Plus, etc\n",
    "\n",
    "<p><img alt=\"\" src=\"images/edamethods.png\" /></p>"
   ]
  },
  {
   "cell_type": "markdown",
   "metadata": {},
   "source": [
    "# Data Visualizations\n",
    "<p><img alt=\"\" src=\"images/Purpose_Visualize_Data.jpg\" /></p>"
   ]
  },
  {
   "cell_type": "markdown",
   "metadata": {},
   "source": [
    "# Tujuan EDA\n",
    "\n",
    "* **Suggest hypotheses** about the causes of observed phenomena\n",
    "* **Assess assumptions** on which statistical inference will be based\n",
    "* Support the **selection of appropriate statistical techniques**\n",
    "* Provide a basis for further data collection"
   ]
  },
  {
   "cell_type": "markdown",
   "metadata": {
    "slideshow": {
     "slide_type": "subslide"
    }
   },
   "source": [
    "<h3 id=\"Data(set)\">Data(set)</h3>\n",
    "\n",
    "<ul>\n",
    "\t<li>Collection of data objects and their attributes</li>\n",
    "\t<li>An attribute is a property or characteristic of an object</li>\n",
    "\t<li>Examples: eye color of a person, temperature, etc.</li>\n",
    "\t<li>Associated with each attribute is a set of possible values or states, e.g., {male, female} for attribute Gender</li>\n",
    "\t<li>A collection of attributes&nbsp;&nbsp; describes an object</li>\n",
    "</ul>\n",
    "\n",
    "<p><img alt=\"\" src=\"images/Dataset.png\" style=\"width: 350px; height: 315px;\" /></p>\n"
   ]
  },
  {
   "cell_type": "markdown",
   "metadata": {},
   "source": [
    "<p><img alt=\"\" src=\"images/XII_desc_Stat.jpg\" style=\"width: 800px; height: 328px;\" /></p>"
   ]
  },
  {
   "cell_type": "markdown",
   "metadata": {},
   "source": [
    "<p><img alt=\"\" src=\"images/central_Tendency.png\" style=\"width: 600px; height: 377px;\" /></p>\n"
   ]
  },
  {
   "cell_type": "markdown",
   "metadata": {},
   "source": [
    "<h3 id=\"Central-Tendency-is-not-enough:-Dispersion-of-Data\">Central Tendency is not enough</h3>\n",
    "\n",
    "<video controls src=\"images/The_Need_for_Data_Disperity_.MP4\" />"
   ]
  },
  {
   "cell_type": "markdown",
   "metadata": {},
   "source": [
    "<h3 id=\"Dispersion-of-Data\">Dispersion of Data</h3>\n",
    "\n",
    "<ul>\n",
    "\t<li>&quot;Hanya&quot; CTM bisa menipu?</li>\n",
    "</ul>\n",
    "\n",
    "<p><img alt=\"\" src=\"images/Data_Dispersions.png\" style=\"width: 500px; height: 284px;\" /></p>\n"
   ]
  },
  {
   "cell_type": "markdown",
   "metadata": {},
   "source": [
    "<h1 id=\"Teknik-Teknik-dalam-EDA\">Teknik-Teknik Visual dalam EDA</h1>\n",
    "\n",
    "<p>Typical&nbsp;<a href=\"https://en.wikipedia.org/wiki/Statistical_graphics\" title=\"Statistical graphics\">graphical techniques</a>&nbsp;used in EDA are:</p>\n",
    "\n",
    "<ul>\n",
    "\t<li><a href=\"https://en.wikipedia.org/wiki/Box_plot\" title=\"Box plot\">Box plot</a></li>\n",
    "\t<li><a href=\"https://en.wikipedia.org/wiki/Histogram\" title=\"Histogram\">Histogram</a></li>\n",
    "\t<li><a href=\"https://en.wikipedia.org/wiki/Pareto_chart\" title=\"Pareto chart\">Pareto chart</a></li>\n",
    "\t<li><a href=\"https://en.wikipedia.org/wiki/Scatter_plot\" title=\"Scatter plot\">Scatter plot</a></li>\n",
    "\t<li><a href=\"https://en.wikipedia.org/wiki/Dimensionality_reduction\" title=\"Dimensionality reduction\">Dimensionality reduction</a>:\n",
    "\t<ul>\n",
    "\t\t<li><a href=\"https://en.wikipedia.org/wiki/Multidimensional_scaling\" title=\"Multidimensional scaling\">Multidimensional scaling</a></li>\n",
    "\t\t<li><a href=\"https://en.wikipedia.org/wiki/Principal_component_analysis\" title=\"Principal component analysis\">Principal component analysis</a>&nbsp;(PCA)</li>\n",
    "\t</ul>\n",
    "\t</li>\n",
    "\t<li>Interactive versions of these plots</li>\n",
    "</ul>"
   ]
  },
  {
   "cell_type": "markdown",
   "metadata": {},
   "source": [
    "# Data Visualizations\n",
    "<p><img alt=\"\" src=\"images/XII_data_visualizations.png\" style=\"width: 800px; height: 499px;\" /></p>\n"
   ]
  },
  {
   "cell_type": "markdown",
   "metadata": {},
   "source": [
    "# Exploratory Data Analysis\n",
    "<p><img alt=\"\" src=\"images/XII_data_analysis_EDA.png\" style=\"width: 646px; height: 550px;\" /></p>"
   ]
  },
  {
   "cell_type": "markdown",
   "metadata": {},
   "source": [
    "<p><img alt=\"\" src=\"images/XII_EDA_ML.png\" style=\"width: 785px; height: 239px;\" /></p>"
   ]
  },
  {
   "cell_type": "markdown",
   "metadata": {
    "slideshow": {
     "slide_type": "slide"
    }
   },
   "source": [
    "## Preprocessing\n",
    "\n",
    "* Thorough data preparation is the key to produce valid & reliable Data Science models.\n",
    "* Preprocessing yang berbeda akan menghasilkan kesimpulan/insight yang berbeda.\n",
    "\n",
    "<h3 id=\"Why-preprocess-the-data?\">Why preprocess the data?</h3>\n",
    "\n",
    "<ul>\n",
    "\t<li>Data Integration and selection</li>\n",
    "\t<li>Data Cleaning: Improving Quality</li>\n",
    "\t<li>Data Transformation</li>\n",
    "\t<li>Data Reduction</li>\n",
    "</ul>\n"
   ]
  },
  {
   "cell_type": "markdown",
   "metadata": {
    "slideshow": {
     "slide_type": "subslide"
    }
   },
   "source": [
    "<h3 id=\"Data-Understanding:-Relevance\">Data Understanding: Relevance</h3>\n",
    "\n",
    "<ul>\n",
    "\t<li>What data is available for the task?</li>\n",
    "\t<li>How much historical data is available?</li>\n",
    "\t<li>How much of it is labelled?</li>\n",
    "\t<li>Is this data relevant?</li>\n",
    "\t<li>If so, what is the quality of data? How it can be improved?</li>\n",
    "\t<li>How this data can be made relevant?</li>\n",
    "\t<li>additional relevant data available?</li>\n",
    "\t<li>Who is the data expert ?</li>\n",
    "</ul>\n"
   ]
  },
  {
   "cell_type": "markdown",
   "metadata": {},
   "source": [
    "<h3 id=\"Why-pre-processing-is-needed?\">Why pre-processing is needed?</h3>\n",
    "\n",
    "<ul>\n",
    "\t<li>Data in the real world is dirty</li>\n",
    "\t<li>incomplete: lacking attribute values, lacking certain attributes of interest, or containing only aggregate data<br />\n",
    "\te.g., occupation=&ldquo; &rdquo;</li>\n",
    "\t<li>noisy: containing errors or outliers<br />\n",
    "\te.g., Salary=&ldquo;-10&rdquo;</li>\n",
    "\t<li>inconsistent: containing discrepancies in codes or names<br />\n",
    "\te.g., Age=&ldquo;42&rdquo; Birthday=&ldquo;03/07/1997&rdquo;<br />\n",
    "\te.g., Was rating &ldquo;1,2,3&rdquo;, now rating &ldquo;A, B, C&rdquo;<br />\n",
    "\te.g., discrepancy between duplicate records</li>\n",
    "\t<li>Mining dirty data is&nbsp; not much useful:<br />\n",
    "\t&ldquo;<strong>Garbage in Garbage out</strong>&rdquo;<br />\n",
    "\t&ndash;Results in wrong inferences<br />\n",
    "\t&ndash;Quality decisions are based on quality data</li>\n",
    "</ul>\n"
   ]
  },
  {
   "cell_type": "markdown",
   "metadata": {},
   "source": [
    "<h3 id=\"Data-Preparation:-Major-Steps\">Data Preparation: Major Steps</h3>\n",
    "\n",
    "<p>To organise data into a standard form that is ready for processing by mining algorithms</p>\n",
    "\n",
    "<ul>\n",
    "\t<li>Data Gathering, Integration &amp; Selection<br />\n",
    "\t&ndash;data warehousing, Web crawling<br />\n",
    "\t&ndash;Identification, extraction and integration of data</li>\n",
    "\t<li>Data Cleaning<br />\n",
    "\t&ndash;To prepare a high quality data</li>\n",
    "\t<li>Data transformation<br />\n",
    "\t&ndash;Generalize and/or normalize data</li>\n",
    "\t<li>Data reduction (feature selection)<br />\n",
    "\t&ndash;To prepare features that lead to the best predictive performance</li>\n",
    "\t<li>Relevance analysis to remove the irrelevant or redundant attributes</li>\n",
    "</ul>\n"
   ]
  },
  {
   "cell_type": "markdown",
   "metadata": {},
   "source": [
    "<h3 id=\"Missing-Data\">Missing Data</h3>\n",
    "\n",
    "<ul>\n",
    "\t<li>Data is not always available<br />\n",
    "\t&bull;E.g., many tuples have no recorded value for several attributes<br />\n",
    "\t(for e.g.&nbsp; customer income in sales data)</li>\n",
    "\t<li>Missing data happens due to<br />\n",
    "\t&bull;Data wasn&rsquo;t capture due to equipment malfunction;<br />\n",
    "\t&bull;inconsistent with other recorded data and thus application program might have deleted the data;<br />\n",
    "\t&bull;data not entered due to misunderstanding (I thought that you will do it!)<br />\n",
    "\t&bull;certain data may not be considered important at the time of entry<br />\n",
    "\t&bull;not register history or changes of the data</li>\n",
    "\t<li>Missing data values need to be inferred or estimated.</li>\n",
    "</ul>\n"
   ]
  },
  {
   "cell_type": "markdown",
   "metadata": {},
   "source": [
    "### Handling Missing Data\n",
    "* Mean/Modus; General or per category (better)\n",
    "* Predict\n",
    "* Exclude?\n",
    "* Missing at Random (MAR) or Not."
   ]
  },
  {
   "cell_type": "markdown",
   "metadata": {},
   "source": [
    "# Missing Values\n",
    "<p><img alt=\"\" src=\"images/XII_dealing_missing.png\" style=\"width: 622px; height: 544px;\" /></p>"
   ]
  },
  {
   "cell_type": "markdown",
   "metadata": {},
   "source": [
    "<h3 id=\"Data-Integration\">Data Integration</h3>\n",
    "\n",
    "<ul>\n",
    "\t<li>Data integration:<br />\n",
    "\t&bull;combines data from multiple sources (typically from multiple tables/databases)</li>\n",
    "\t<li>Schema integration<br />\n",
    "\t&bull;integrate metadata from different sources<br />\n",
    "\t&bull;Entity identification problem:&nbsp;identify real world entities from multiple data sources, e.g., A.cust-id =&nbsp;B.cust-#</li>\n",
    "\t<li>Detecting and resolving data value conflicts<br />\n",
    "\t&bull;for the same real world entity, attribute values from different sources are different<br />\n",
    "\t&bull;possible reasons: different representations, different scales, e.g., metric vs. British units</li>\n",
    "</ul>\n",
    "\n",
    "\n",
    "* **Pengalaman pribadi di KL: ...**"
   ]
  },
  {
   "cell_type": "markdown",
   "metadata": {},
   "source": [
    "<h3 id=\"Noisy-Data\">Noisy Data</h3>\n",
    "\n",
    "<ul>\n",
    "\t<li>Noise: random error or variance in a measured variable</li>\n",
    "\t<li>Noise can happen because of<br />\n",
    "\t&bull;faulty data collection instruments<br />\n",
    "\t&bull;data entry mistakes<br />\n",
    "\t&bull;data transmission problems<br />\n",
    "\t&bull;inconsistency in naming convention</li>\n",
    "\t<li>Outliers are data objects with characteristics that are considerably different than most of the other data objects in the data set</li>\n",
    "\t<li>Different outliers<br />\n",
    "\t&bull;Valid: CEO&rsquo;s salary,<br />\n",
    "\t&bull;Noisy: One&rsquo;s age = 200, widely deviated points</li>\n",
    "</ul>\n",
    "\n",
    "\n",
    "* **Hati-hati Noise VS Outliers dan jumlahnya**"
   ]
  },
  {
   "cell_type": "markdown",
   "metadata": {},
   "source": [
    "# Removing Duplicate Data\n",
    "<p><img alt=\"\" src=\"images/XII_Duplicate-Data.png\" style=\"width: 789px; height: 222px;\" /></p>"
   ]
  },
  {
   "cell_type": "markdown",
   "metadata": {},
   "source": [
    "### Univariate Outliers\n",
    "* Asumsi Normal\n",
    "* Asumsi distribusi lain\n",
    "\n",
    "### Multivariate Outliers\n",
    "* Clustering (DBSCAN)"
   ]
  },
  {
   "cell_type": "markdown",
   "metadata": {},
   "source": [
    "<p><strong>Perbandingan beberapa metode pendeteksian outliers (multivariate):</strong></p>\n",
    "\n",
    "<ol>\n",
    "\t<li>&nbsp;<a href=\"http://scikit-learn.org/stable/auto_examples/applications/plot_outlier_detection_housing.html#sphx-glr-auto-examples-applications-plot-outlier-detection-housing-py&amp;nbsp\" target=\"_blank\">http://scikit-learn.org/stable/auto_examples/applications/plot_outlier_detection_housing.html#sphx-glr-auto-examples-applications-plot-outlier-detection-housing-py&amp;nbsp</a>;</li>\n",
    "\t<li><a href=\"http://scikit-learn.org/stable/auto_examples/covariance/plot_outlier_detection.html#sphx-glr-auto-examples-covariance-plot-outlier-detection-py\" target=\"_blank\">http://scikit-learn.org/stable/auto_examples/covariance/plot_outlier_detection.html#sphx-glr-auto-examples-covariance-plot-outlier-detection-py</a></li>\n",
    "\t<li><a href=\"http://scikit-learn.org/stable/auto_examples/neighbors/plot_lof.html#sphx-glr-auto-examples-neighbors-plot-lof-py\" target=\"_blank\">http://scikit-learn.org/stable/auto_examples/neighbors/plot_lof.html#sphx-glr-auto-examples-neighbors-plot-lof-py</a></li>\n",
    "\t<li><a href=\"http://scikit-learn.org/stable/auto_examples/preprocessing/plot_all_scaling.html#sphx-glr-auto-examples-preprocessing-plot-all-scaling-py\" target=\"_blank\">http://scikit-learn.org/stable/auto_examples/preprocessing/plot_all_scaling.html#sphx-glr-auto-examples-preprocessing-plot-all-scaling-py</a></li>\n",
    "\t<li>https://blog.dominodatalab.com/topology-and-density-based-clustering/</li>\n",
    "</ol>\n"
   ]
  },
  {
   "cell_type": "markdown",
   "metadata": {},
   "source": [
    "<h3 id=\"Warming-up-discussion:\">Warming up discussion:</h3>\n",
    "\n",
    "<ul>\n",
    "\t<li>Outliers deteksi?, Apa yang sebaiknya dilakukan? Mengapa?</li>\n",
    "\t<li>Noise: Apa yang disebut dengan noise? Deteksi? Apa yang harus dilakukan?</li>\n",
    "\t<li>Dimension reduction. Mengapa? Bagaimana caranya?</li>\n",
    "\t<li>Transformasi data. Mengapa? Fungsi Apa?</li>\n",
    "\t<li>duplikasi (row/column). Apa yang harus dilakukan? Mengapa?</li>\n",
    "\t<li>Variabel yang berkorelasi. Apa yang sebaiknya dilakukan? Mengapa?</li>\n",
    "\t<li>Missing Data. Apa yang sebaiknya dilakukan? Mengapa?</li>\n",
    "</ul>\n"
   ]
  },
  {
   "cell_type": "markdown",
   "metadata": {},
   "source": [
    "# Some References\n",
    "\n",
    "* Tukey, John Wilder (1977). Exploratory Data Analysis. Addison-Wesley. ISBN 978-0-201-07616-5.\n",
    "* Young, F. W. Valero-Mora, P. and Friendly M. (2006) Visual Statistics: Seeing your data with Dynamic Interactive Graphics. Wiley ISBN 978-0-471-68160-1\n",
    "* Andrienko, N & Andrienko, G (2005) Exploratory Analysis of Spatial and Temporal Data. A Systematic Approach. Springer. ISBN 3-540-25994-5"
   ]
  },
  {
   "cell_type": "code",
   "execution_count": null,
   "metadata": {},
   "outputs": [],
   "source": [
    "!mkdir data\n",
    "!wget -P data/ https://raw.githubusercontent.com/taufikedys/umi/master/data/price.csv"
   ]
  },
  {
   "cell_type": "code",
   "execution_count": null,
   "metadata": {
    "ExecuteTime": {
     "end_time": "2019-09-30T01:01:49.141679Z",
     "start_time": "2019-09-30T01:01:44.041912Z"
    }
   },
   "outputs": [],
   "source": [
    "# Importing Some Python Modules\n",
    "import scipy, itertools, pandas as pd, matplotlib.pyplot as plt, seaborn as sns, numpy as np\n",
    "import warnings; warnings.simplefilter('ignore')\n",
    "from scipy import stats\n",
    "from sklearn.preprocessing import StandardScaler, MinMaxScaler\n",
    "\n",
    "%matplotlib inline\n",
    "plt.style.use('bmh'); sns.set()"
   ]
  },
  {
   "cell_type": "markdown",
   "metadata": {},
   "source": [
    "# Studi Kasus\n",
    "\n",
    "* Misal seorang Data Scientist ditugaskan untuk menentukan investasi properti terbaik.\n",
    "* Tujuan analisa di modul ini adalah menemukan harga rumah yang lebih rendah dari harga pasaran\n",
    "* Asumsikan kita memiliki data harga rumah yang ditawarkan dan variabel-variabel terkait lainnya.\n",
    "* Untuk membuat keputusan investasi, kita akan melakukan EDA dan membuat pada data yang ada.\n",
    "\n",
    "<p><img alt=\"\" src=\"images/Regression-model.jpg\" /></p>"
   ]
  },
  {
   "cell_type": "markdown",
   "metadata": {},
   "source": [
    "# Contoh Kasus Data Harga Property Rumah\n",
    "\n",
    "* Sumber Data: http://byebuyhome.com/\n",
    "* Objective: menemukan harga rumah yang berada di bawah pasaran.\n",
    "* Variable:\n",
    " - **Dist_Taxi** – distance to nearest taxi stand from the property\n",
    " - **Dist_Market** – distance to nearest grocery market from the property\n",
    " - **Dist_Hospital** – distance to nearest hospital from the property\n",
    " - **Carpet** – carpet area of the property in square feet\n",
    " - **Builtup** – built-up area of the property in square feet\n",
    " - **Parking** – type of car parking available with the property\n",
    " - **City_Category** – categorization of the city based on the size\n",
    " - **Rainfall** – annual rainfall in the area where property is located\n",
    " - **House_Price** – price at which the property was sold"
   ]
  },
  {
   "cell_type": "code",
   "execution_count": null,
   "metadata": {
    "ExecuteTime": {
     "end_time": "2019-09-30T01:08:32.120040Z",
     "start_time": "2019-09-30T01:08:32.110066Z"
    }
   },
   "outputs": [],
   "source": [
    "# Importing CSV data  https://pandas.pydata.org/pandas-docs/stable/reference/api/pandas.read_csv.html\n",
    "price = pd.read_csv('data/price.csv')\n",
    "# Prefer XLS atau CSV di Data Science/Machine Learning ... Mengapa?"
   ]
  },
  {
   "cell_type": "code",
   "execution_count": null,
   "metadata": {
    "ExecuteTime": {
     "end_time": "2019-09-30T01:08:34.825452Z",
     "start_time": "2019-09-30T01:08:34.820463Z"
    }
   },
   "outputs": [],
   "source": [
    "# Tipe Datanya : DataFrame (df)\n",
    "type(price)"
   ]
  },
  {
   "cell_type": "code",
   "execution_count": null,
   "metadata": {
    "ExecuteTime": {
     "end_time": "2019-09-30T01:01:49.186533Z",
     "start_time": "2019-09-30T01:01:49.177222Z"
    }
   },
   "outputs": [],
   "source": [
    "# Ukuran Data\n",
    "N, P = price.shape\n",
    "print('baris = ', N, ', Kolom = ', P)"
   ]
  },
  {
   "cell_type": "code",
   "execution_count": null,
   "metadata": {
    "ExecuteTime": {
     "end_time": "2019-09-30T01:09:45.067396Z",
     "start_time": "2019-09-30T01:09:45.058420Z"
    }
   },
   "outputs": [],
   "source": [
    "# tipe data di setiap kolom\n",
    "# Wajib di periksa apakah tipe datanya sudah tepat?\n",
    "# Perhatikan df sebagaimana semua variable di Python diperlakukan seperti object\n",
    "price.info()"
   ]
  },
  {
   "cell_type": "code",
   "execution_count": null,
   "metadata": {
    "ExecuteTime": {
     "end_time": "2019-09-30T01:01:49.230415Z",
     "start_time": "2019-09-30T01:01:49.208497Z"
    }
   },
   "outputs": [],
   "source": [
    "# \"Mengintip\" beberapa data pertamanya\n",
    "price.head(10)"
   ]
  },
  {
   "cell_type": "code",
   "execution_count": null,
   "metadata": {
    "ExecuteTime": {
     "end_time": "2019-09-30T01:01:49.252357Z",
     "start_time": "2019-09-30T01:01:49.232409Z"
    }
   },
   "outputs": [],
   "source": [
    "# \"Mengintip\" beberapa data akhirnya\n",
    "price.tail(7)"
   ]
  },
  {
   "cell_type": "code",
   "execution_count": null,
   "metadata": {
    "ExecuteTime": {
     "end_time": "2019-09-30T01:01:49.273357Z",
     "start_time": "2019-09-30T01:01:49.254351Z"
    }
   },
   "outputs": [],
   "source": [
    "# chosen at random\n",
    "price.sample(8)"
   ]
  },
  {
   "cell_type": "markdown",
   "metadata": {},
   "source": [
    "# Removing a variable"
   ]
  },
  {
   "cell_type": "code",
   "execution_count": null,
   "metadata": {},
   "outputs": [],
   "source": [
    "price.head(10)"
   ]
  },
  {
   "cell_type": "code",
   "execution_count": null,
   "metadata": {},
   "outputs": [],
   "source": [
    "price.describe()"
   ]
  },
  {
   "cell_type": "code",
   "execution_count": null,
   "metadata": {
    "ExecuteTime": {
     "end_time": "2019-09-30T01:09:54.493202Z",
     "start_time": "2019-09-30T01:09:54.484458Z"
    }
   },
   "outputs": [],
   "source": [
    "# Drop kolom pertama karena tidak berguna (hanya index)\n",
    "price.drop(\"Observation\", axis=1, inplace=True)\n",
    "price.dtypes"
   ]
  },
  {
   "cell_type": "code",
   "execution_count": null,
   "metadata": {
    "ExecuteTime": {
     "end_time": "2019-09-30T01:10:04.681230Z",
     "start_time": "2019-09-30T01:10:04.674516Z"
    }
   },
   "outputs": [],
   "source": [
    "# Merubah tipe data \"jika\" tidak tepat, contoh:\n",
    "price.dtypes"
   ]
  },
  {
   "cell_type": "code",
   "execution_count": null,
   "metadata": {
    "ExecuteTime": {
     "end_time": "2019-09-30T01:10:08.390322Z",
     "start_time": "2019-09-30T01:10:08.380136Z"
    }
   },
   "outputs": [],
   "source": [
    "# dataframe types: https://pbpython.com/pandas_dtypes.html\n",
    "price['Parking'] = price['Parking'].astype('category')\n",
    "price['City_Category'] = price['City_Category'].astype('category')\n",
    "price.dtypes"
   ]
  },
  {
   "cell_type": "markdown",
   "metadata": {},
   "source": [
    "# Statistika Deskriptif"
   ]
  },
  {
   "cell_type": "code",
   "execution_count": null,
   "metadata": {
    "ExecuteTime": {
     "end_time": "2019-09-30T01:10:41.657165Z",
     "start_time": "2019-09-30T01:10:41.616276Z"
    }
   },
   "outputs": [],
   "source": [
    "# Statistika Sederhana dari data \"Numerik\"-nya\n",
    "price.describe(include='all')"
   ]
  },
  {
   "cell_type": "code",
   "execution_count": null,
   "metadata": {
    "ExecuteTime": {
     "end_time": "2019-09-30T01:11:45.093810Z",
     "start_time": "2019-09-30T01:11:45.076340Z"
    }
   },
   "outputs": [],
   "source": [
    "# ini adalah parameter tambahan jika kita juga ingin mendapatkan statistik sederhana seluruh datanya\n",
    "# (termasuk data kategorik)\n",
    "price[['Dist_Taxi','Parking']].describe(include='all')"
   ]
  },
  {
   "cell_type": "markdown",
   "metadata": {},
   "source": [
    "# Variable Selection"
   ]
  },
  {
   "cell_type": "code",
   "execution_count": null,
   "metadata": {
    "ExecuteTime": {
     "end_time": "2019-09-30T01:12:35.600749Z",
     "start_time": "2019-09-30T01:12:35.580328Z"
    }
   },
   "outputs": [],
   "source": [
    "# Memilih hanya variable dengan tipe tertentu\n",
    "price_num = price.select_dtypes(include = ['float64', 'int64'])\n",
    "price_num.head()\n",
    "# Perhatikan price_num adalah variable df baru! ... (hati-hati di data yang besar)"
   ]
  },
  {
   "cell_type": "code",
   "execution_count": null,
   "metadata": {
    "ExecuteTime": {
     "end_time": "2019-09-30T01:12:47.901163Z",
     "start_time": "2019-09-30T01:12:47.883160Z"
    }
   },
   "outputs": [],
   "source": [
    "# Memilih hanya variable dengan tipe tertentu\n",
    "price_cat = price.select_dtypes(include = ['category'])\n",
    "price_cat.head()"
   ]
  },
  {
   "cell_type": "code",
   "execution_count": null,
   "metadata": {
    "ExecuteTime": {
     "end_time": "2019-09-30T01:16:09.012894Z",
     "start_time": "2019-09-30T01:16:08.995362Z"
    }
   },
   "outputs": [],
   "source": [
    "df = pd.get_dummies(price['Parking'], prefix='Park')\n",
    "df.head()"
   ]
  },
  {
   "cell_type": "markdown",
   "metadata": {},
   "source": [
    "# Menggabungkan dengan data awal (concat)"
   ]
  },
  {
   "cell_type": "code",
   "execution_count": null,
   "metadata": {},
   "outputs": [],
   "source": [
    "df2 = pd.concat([price, df], axis = 1)\n",
    "df2.head()"
   ]
  },
  {
   "cell_type": "code",
   "execution_count": null,
   "metadata": {
    "ExecuteTime": {
     "end_time": "2019-09-30T01:01:49.488723Z",
     "start_time": "2019-09-30T01:01:49.473213Z"
    }
   },
   "outputs": [],
   "source": [
    "# Choosing some columns manually\n",
    "X = price[['House_Price','Dist_Market']] \n",
    "X[:10]"
   ]
  },
  {
   "cell_type": "markdown",
   "metadata": {},
   "source": [
    "# Distribusi nilai pada setiap variabel kategorik"
   ]
  },
  {
   "cell_type": "code",
   "execution_count": null,
   "metadata": {
    "ExecuteTime": {
     "end_time": "2019-09-30T01:18:12.570340Z",
     "start_time": "2019-09-30T01:18:12.561826Z"
    }
   },
   "outputs": [],
   "source": [
    "# get all unique values of a variable/column\n",
    "for col in price_cat.columns:\n",
    "    print(col,': ', set(price[col].unique()))"
   ]
  },
  {
   "cell_type": "code",
   "execution_count": null,
   "metadata": {
    "ExecuteTime": {
     "end_time": "2019-09-30T01:01:49.521637Z",
     "start_time": "2019-09-30T01:01:49.512438Z"
    }
   },
   "outputs": [],
   "source": [
    "price['Parking'].unique()"
   ]
  },
  {
   "cell_type": "code",
   "execution_count": null,
   "metadata": {
    "ExecuteTime": {
     "end_time": "2019-09-30T01:01:49.539624Z",
     "start_time": "2019-09-30T01:01:49.524628Z"
    }
   },
   "outputs": [],
   "source": [
    "# price\n",
    "# Jika yang dibutuhkan memang hanya nama kolom, maka kita bisa melakukan hal ini untuk menghemat penggunaan memory\n",
    "numVar = price.select_dtypes(include = ['float64', 'int64']).columns\n",
    "list(numVar)"
   ]
  },
  {
   "cell_type": "code",
   "execution_count": null,
   "metadata": {
    "ExecuteTime": {
     "end_time": "2019-09-30T01:18:27.666779Z",
     "start_time": "2019-09-30T01:18:27.657652Z"
    }
   },
   "outputs": [],
   "source": [
    "# Distribusi tiap data\n",
    "price['Parking'].value_counts()\n",
    "# kita bisa juga visualisasikan informasi ini"
   ]
  },
  {
   "cell_type": "code",
   "execution_count": null,
   "metadata": {
    "ExecuteTime": {
     "end_time": "2019-09-30T01:01:49.840255Z",
     "start_time": "2019-09-30T01:01:49.557540Z"
    }
   },
   "outputs": [],
   "source": [
    "plt.figure(figsize=(8,6)) # https://matplotlib.org/api/_as_gen/matplotlib.pyplot.figure.html#matplotlib.pyplot.figure\n",
    "p = sns.countplot(x=\"Parking\", data=price)"
   ]
  },
  {
   "cell_type": "code",
   "execution_count": null,
   "metadata": {
    "ExecuteTime": {
     "end_time": "2019-09-30T01:01:49.914253Z",
     "start_time": "2019-09-30T01:01:49.841841Z"
    }
   },
   "outputs": [],
   "source": [
    "# ini dilakukan jika kita ingin menyimpan plotnya ke dalam suatu file\n",
    "p.figure.savefig('barChart.png')\n",
    "# lihat di folder ipynb-nya akan muncul file baru."
   ]
  },
  {
   "cell_type": "code",
   "execution_count": null,
   "metadata": {
    "ExecuteTime": {
     "end_time": "2019-09-30T01:01:50.095770Z",
     "start_time": "2019-09-30T01:01:49.918243Z"
    }
   },
   "outputs": [],
   "source": [
    "# PieChart\n",
    "plot = price.Parking.value_counts().plot(kind='pie')"
   ]
  },
  {
   "cell_type": "markdown",
   "metadata": {},
   "source": [
    "## Apakah ada kecenderungan perbedaan harga rumah akibat dari tipe tempat parkir?"
   ]
  },
  {
   "cell_type": "code",
   "execution_count": null,
   "metadata": {
    "ExecuteTime": {
     "end_time": "2019-09-30T01:01:50.484583Z",
     "start_time": "2019-09-30T01:01:50.098828Z"
    }
   },
   "outputs": [],
   "source": [
    "p= sns.catplot(x=\"Parking\", y=\"House_Price\", data=price)\n",
    "# Apa yang bisa dilihat dari hasil ini?"
   ]
  },
  {
   "cell_type": "markdown",
   "metadata": {},
   "source": [
    "# Outlier atau noise? How to decide?"
   ]
  },
  {
   "cell_type": "markdown",
   "metadata": {},
   "source": [
    "# Univariate Outlier removal\n",
    "\n",
    "### Perlu asumsi \"distribusi\" dari datanya"
   ]
  },
  {
   "cell_type": "markdown",
   "metadata": {},
   "source": [
    "# Normality Assumption\n",
    "\n",
    "<p><img alt=\"\" src=\"images/XII_normal_CI.png\" style=\"width: 800px; height: 374px;\" /></p>"
   ]
  },
  {
   "cell_type": "code",
   "execution_count": null,
   "metadata": {
    "ExecuteTime": {
     "end_time": "2019-09-30T01:01:51.080385Z",
     "start_time": "2019-09-30T01:01:50.489391Z"
    }
   },
   "outputs": [],
   "source": [
    "# Distributions\n",
    "p = sns.distplot(price['House_Price'], kde=True, rug=True)"
   ]
  },
  {
   "cell_type": "code",
   "execution_count": null,
   "metadata": {
    "ExecuteTime": {
     "end_time": "2019-09-30T01:26:35.471859Z",
     "start_time": "2019-09-30T01:26:35.465294Z"
    }
   },
   "outputs": [],
   "source": [
    "# Misal dengan asumsi data berdistribusi normal\n",
    "# dan menggunakan 99% confidence interval di sekitar variabel \"harga\"\n",
    "\n",
    "df = np.abs(price.House_Price - price.House_Price.mean())<=(2*price.House_Price.std())\n",
    "# mu-2s<x<mu+2s\n",
    "print(df.shape)\n",
    "df.head()"
   ]
  },
  {
   "cell_type": "code",
   "execution_count": null,
   "metadata": {},
   "outputs": [],
   "source": [
    "price2 = price[df] # Data tanpa outliers\n",
    "print(price2.shape, price.shape)\n",
    "price2.head\n",
    "# Perhatikan disini sengaja data yang telah di remove outliernya \n",
    "# disimpan dalam variabel baru \"Price2\"\n",
    "# Jika datanya besar hati-hati melakukan hal ini"
   ]
  },
  {
   "cell_type": "code",
   "execution_count": null,
   "metadata": {
    "ExecuteTime": {
     "end_time": "2019-09-30T01:01:51.627698Z",
     "start_time": "2019-09-30T01:01:51.143217Z"
    }
   },
   "outputs": [],
   "source": [
    "# Distributions\n",
    "p = sns.distplot(price2['House_Price'], kde=True, rug=True)"
   ]
  },
  {
   "cell_type": "code",
   "execution_count": null,
   "metadata": {
    "ExecuteTime": {
     "end_time": "2019-09-30T01:27:46.145677Z",
     "start_time": "2019-09-30T01:27:45.789730Z"
    }
   },
   "outputs": [],
   "source": [
    "# Plot lagi setelah outlier removal\n",
    "p= sns.catplot(x=\"Parking\", y=\"House_Price\", data=price2)\n",
    "# Apakah ada kecenderungan perbedaan harga rumah akibat dari tipe tempat parkir?"
   ]
  },
  {
   "cell_type": "code",
   "execution_count": null,
   "metadata": {
    "ExecuteTime": {
     "end_time": "2019-09-30T01:01:53.025889Z",
     "start_time": "2019-09-30T01:01:52.038530Z"
    }
   },
   "outputs": [],
   "source": [
    "# Bisa juga plot dengan informasi dari 3 variabel sekaligus\n",
    "# (untuk melihat kemungkinan faktor interaksi)\n",
    "\n",
    "p= sns.catplot(x=\"Parking\", y=\"House_Price\", hue=\"City_Category\", kind=\"swarm\", data=price2)"
   ]
  },
  {
   "cell_type": "markdown",
   "metadata": {},
   "source": [
    "# Ada \"dugaan\" apakah dari hasil diatas?"
   ]
  },
  {
   "cell_type": "markdown",
   "metadata": {},
   "source": [
    "# Missing Values"
   ]
  },
  {
   "cell_type": "code",
   "execution_count": null,
   "metadata": {
    "ExecuteTime": {
     "end_time": "2019-09-30T01:47:26.285880Z",
     "start_time": "2019-09-30T01:47:26.278337Z"
    }
   },
   "outputs": [],
   "source": [
    "# General Look at the Missing Values\n",
    "print(price2.isnull().sum())"
   ]
  },
  {
   "cell_type": "code",
   "execution_count": null,
   "metadata": {
    "ExecuteTime": {
     "end_time": "2019-09-30T01:47:04.499900Z",
     "start_time": "2019-09-30T01:47:04.469605Z"
    }
   },
   "outputs": [],
   "source": [
    "# Simplest solution, if the MV is not a lot\n",
    "# drop rows with missing values : Ada berbagai cara\n",
    "X = price.dropna() # jika ada MV minimal satu di salah satu kolom, maka baris di hapus\n",
    "price2.dropna(how='all') # jika ada MV di semua kolom, maka baris di hapus\n",
    "price2.dropna(thresh=2) # jika ada MV minimal di salah 2 kolom, maka baris di hapus\n",
    "price2.dropna(subset=['Dist_Hospital'])[:7] # jika ada MV minimal satu di salah kolom Dist_Hospital\n",
    "# inplace=True if really really sure\n",
    "price2.dropna(inplace=True)"
   ]
  },
  {
   "cell_type": "code",
   "execution_count": null,
   "metadata": {},
   "outputs": [],
   "source": [
    "print(price2.isnull().sum())"
   ]
  },
  {
   "cell_type": "code",
   "execution_count": null,
   "metadata": {
    "ExecuteTime": {
     "end_time": "2019-09-30T01:47:14.671721Z",
     "start_time": "2019-09-30T01:47:14.659514Z"
    }
   },
   "outputs": [],
   "source": [
    "#mengecek apakah ada duplikat data?\n",
    "print(price2.shape)\n",
    "price2.duplicated().sum()"
   ]
  },
  {
   "cell_type": "code",
   "execution_count": null,
   "metadata": {
    "ExecuteTime": {
     "end_time": "2019-09-30T01:47:55.591787Z",
     "start_time": "2019-09-30T01:47:55.574034Z"
    }
   },
   "outputs": [],
   "source": [
    "#menghapus entri yang memiliki data duplikat \n",
    "price2.drop_duplicates(inplace=True)\n",
    "print(price2.duplicated().sum()) # no more duplicates\n",
    "print(price2.shape) # re-check by printing data size"
   ]
  },
  {
   "cell_type": "markdown",
   "metadata": {},
   "source": [
    "# (PairWise) Scatter Plot"
   ]
  },
  {
   "cell_type": "code",
   "execution_count": null,
   "metadata": {
    "ExecuteTime": {
     "end_time": "2019-09-30T01:02:08.703598Z",
     "start_time": "2019-09-30T01:01:53.121631Z"
    }
   },
   "outputs": [],
   "source": [
    "# Scatter Plots; https://seaborn.pydata.org/generated/seaborn.pairplot.html\n",
    "p = sns.pairplot(price2, hue=\"City_Category\")\n",
    "# Warning agak lambat (variabel cukup banyak)"
   ]
  },
  {
   "cell_type": "code",
   "execution_count": null,
   "metadata": {
    "ExecuteTime": {
     "end_time": "2019-09-30T01:02:14.506250Z",
     "start_time": "2019-09-30T01:02:08.705995Z"
    }
   },
   "outputs": [],
   "source": [
    "# Coba kita perhatikan sebagiannya saja dulu dan coba kelompokkan berdasarkan \"Parking\"\n",
    "p = sns.pairplot(price2[['House_Price','Builtup','Dist_Hospital','Dist_Taxi','Parking']], hue=\"Parking\")\n",
    "# Ada pola menarik?"
   ]
  },
  {
   "cell_type": "markdown",
   "metadata": {},
   "source": [
    "# Saving (preprocessed) Data"
   ]
  },
  {
   "cell_type": "code",
   "execution_count": null,
   "metadata": {
    "ExecuteTime": {
     "end_time": "2019-09-30T01:02:14.552127Z",
     "start_time": "2019-09-30T01:02:14.509242Z"
    }
   },
   "outputs": [],
   "source": [
    "# Saving the preprocessed Data for future use/analysis\n",
    "price2.to_csv(\"data_01_pricing_PreProcessed.csv\", encoding='utf8')"
   ]
  },
  {
   "cell_type": "markdown",
   "metadata": {},
   "source": [
    "# Data Grouping"
   ]
  },
  {
   "cell_type": "code",
   "execution_count": null,
   "metadata": {
    "ExecuteTime": {
     "end_time": "2019-09-30T01:53:20.518156Z",
     "start_time": "2019-09-30T01:53:20.474873Z"
    }
   },
   "outputs": [],
   "source": [
    "# Slicing DataFrame - Just like query in SQL\n",
    "price2[price2[\"City_Category\"] == \"CAT B\"].describe()\n",
    "# Bisa ditambahkan .drop(\"Parking\", axis=1) untuk menghilangkan kolom dengan single value"
   ]
  },
  {
   "cell_type": "markdown",
   "metadata": {},
   "source": [
    "# BoxPlot"
   ]
  },
  {
   "cell_type": "code",
   "execution_count": null,
   "metadata": {
    "ExecuteTime": {
     "end_time": "2019-09-30T01:02:14.978985Z",
     "start_time": "2019-09-30T01:02:14.622937Z"
    }
   },
   "outputs": [],
   "source": [
    "# BoxPlots\n",
    "p = sns.boxplot(x=\"House_Price\", y=\"Parking\", data=price2)\n",
    "# Apa makna pola yang terlihat di data oleh BoxPlot ini?"
   ]
  },
  {
   "cell_type": "code",
   "execution_count": null,
   "metadata": {
    "ExecuteTime": {
     "end_time": "2019-09-30T01:02:15.333037Z",
     "start_time": "2019-09-30T01:02:14.981977Z"
    }
   },
   "outputs": [],
   "source": [
    "# Jika ada outlier grafiknya menjadi tidak jelas (data = price, bukan price2)\n",
    "p = sns.boxplot(x=\"House_Price\", y=\"Parking\", data=price)"
   ]
  },
  {
   "cell_type": "markdown",
   "metadata": {},
   "source": [
    "# Boxplot dapat juga dipisahkan berdasarkan suatu kategori"
   ]
  },
  {
   "cell_type": "code",
   "execution_count": null,
   "metadata": {
    "ExecuteTime": {
     "end_time": "2019-09-30T01:02:16.002248Z",
     "start_time": "2019-09-30T01:02:15.337026Z"
    }
   },
   "outputs": [],
   "source": [
    "p = sns.catplot(x=\"Parking\", y=\"House_Price\", hue=\"City_Category\", kind=\"box\", data=price2)"
   ]
  },
  {
   "cell_type": "markdown",
   "metadata": {},
   "source": [
    "# Ada dugaan/interpretasi (baru) apakah dari boxPlot diatas?"
   ]
  },
  {
   "cell_type": "markdown",
   "metadata": {},
   "source": [
    "# Checking Correlations"
   ]
  },
  {
   "cell_type": "code",
   "execution_count": null,
   "metadata": {
    "ExecuteTime": {
     "end_time": "2019-09-30T01:02:16.029174Z",
     "start_time": "2019-09-30T01:02:16.005239Z"
    }
   },
   "outputs": [],
   "source": [
    "price2.corr()"
   ]
  },
  {
   "cell_type": "code",
   "execution_count": null,
   "metadata": {
    "ExecuteTime": {
     "end_time": "2019-09-30T01:02:16.555765Z",
     "start_time": "2019-09-30T01:02:16.035160Z"
    }
   },
   "outputs": [],
   "source": [
    "# HeatMap untuk menyelidiki korelasi\n",
    "corr2 = price2.corr() # We already examined SalePrice correlations\n",
    "plt.figure(figsize=(12, 10))\n",
    "\n",
    "sns.heatmap(corr2[(corr2 >= 0.5) | (corr2 <= -0.4)], \n",
    "            cmap='viridis', vmax=1.0, vmin=-1.0, linewidths=0.1,\n",
    "            annot=True, annot_kws={\"size\": 8}, square=True);"
   ]
  },
  {
   "cell_type": "markdown",
   "metadata": {},
   "source": [
    "# Latihan Studi Kasus: Data Tips Restaurant\n",
    "\n",
    "Sebuah dataset dari suatu Restaurant memuat variabel-variabel berikut:\n",
    "*\ttotal_bill: Total bill (cost of the meal), including tax, in US dollars\n",
    "*\ttip: Tip (gratuity) in US dollars\n",
    "*\tsex: Sex of person paying for the meal (0=male, 1=female)\n",
    "*\tsmoker: Smoker in party? (0=No, 1=Yes)\n",
    "*\tday: 3=Thur, 4=Fri, 5=Sat, 6=Sun\n",
    "*\ttime: 0=Day, 1=Night\n",
    "*\tsize: Size of the party\n",
    "\n",
    "https://www.kaggle.com/ranjeetjain3/seaborn-tips-dataset"
   ]
  },
  {
   "cell_type": "code",
   "execution_count": null,
   "metadata": {
    "ExecuteTime": {
     "end_time": "2019-09-30T01:58:31.098929Z",
     "start_time": "2019-09-30T01:58:31.086992Z"
    }
   },
   "outputs": [],
   "source": [
    "# Loading Contoh Data studi kasus pertama di atas\n",
    "tips = sns.load_dataset('tips') # Loading dari SeaBorn library's dataset"
   ]
  },
  {
   "cell_type": "code",
   "execution_count": null,
   "metadata": {
    "ExecuteTime": {
     "end_time": "2019-09-30T01:58:42.691279Z",
     "start_time": "2019-09-30T01:58:42.686292Z"
    }
   },
   "outputs": [],
   "source": [
    "# Ukuran Data\n",
    "N, P = tips.shape\n",
    "print('baris = ', N, ', Kolom = ', P)"
   ]
  },
  {
   "cell_type": "code",
   "execution_count": null,
   "metadata": {
    "ExecuteTime": {
     "end_time": "2019-09-30T01:02:16.628570Z",
     "start_time": "2019-09-30T01:02:16.602822Z"
    }
   },
   "outputs": [],
   "source": [
    "# \"Mengintip\" beberapa data pertamanya\n",
    "tips.head()"
   ]
  },
  {
   "cell_type": "code",
   "execution_count": null,
   "metadata": {
    "ExecuteTime": {
     "end_time": "2019-09-30T01:02:16.651550Z",
     "start_time": "2019-09-30T01:02:16.632560Z"
    }
   },
   "outputs": [],
   "source": [
    "tips.info()"
   ]
  },
  {
   "cell_type": "markdown",
   "metadata": {},
   "source": [
    "# Latihan:\n",
    "\n",
    "## Silahkan berdiskusi untuk menjawab pertanyaan-pertanyaan berikut:\n",
    "\n",
    "1. Adakah tipe variabel yang kurang tepat di data tersebut?\n",
    "2. Apakah data numeriknya cenderung berdistribusi normal?\n",
    "3. Apakah ada outlier, noise, missing values, dan-atau duplikasi data?\n",
    "4. Apakah pelanggan pria dan wanita cenderung proporsional (balance)?\n",
    "5. Dari data yang ada apakah Pria atau wanita ada kecenderungan memberi tips lebih besar?\n",
    "6. Dari data yang ada apakah ada kecenderungan tips lebih besar di hari-hari tertentu?\n",
    "7. Dari data yang ada apakah customer perokok cenderung memberi tips lebih besar?\n",
    "8. Apakah pola di nomer 5 dan 7 dipengaruhi hari?\n",
    "9. Pola apalagi yang dapat anda temukan? (misal, bisakah anda menyarankan tata letak kursi/meja restaurant dari data ini?)\n",
    "9. Final question: dari hasil EDA anda saran apa saja yang akan anda berikan ke pemilik restaurant? \n",
    "\n",
    "* Skills/kompetensi apa yang terasa sangat diperlukan dari latihan ini?"
   ]
  },
  {
   "cell_type": "markdown",
   "metadata": {
    "slideshow": {
     "slide_type": "slide"
    }
   },
   "source": [
    "# <center><font color=\"blue\"> End of Module 04\n",
    "\n",
    "<hr />\n",
    "<p><img alt=\"\" src=\"images/meme_09.png\" /></p>"
   ]
  }
 ],
 "metadata": {
  "celltoolbar": "Slideshow",
  "kernelspec": {
   "display_name": "Python 3",
   "language": "python",
   "name": "python3"
  },
  "language_info": {
   "codemirror_mode": {
    "name": "ipython",
    "version": 3
   },
   "file_extension": ".py",
   "mimetype": "text/x-python",
   "name": "python",
   "nbconvert_exporter": "python",
   "pygments_lexer": "ipython3",
   "version": "3.6.8"
  }
 },
 "nbformat": 4,
 "nbformat_minor": 2
}
