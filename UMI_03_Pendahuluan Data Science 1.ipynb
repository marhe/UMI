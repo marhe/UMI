{
 "cells": [
  {
   "cell_type": "markdown",
   "metadata": {},
   "source": [
    "# http://tau-data.id/umi/"
   ]
  },
  {
   "cell_type": "markdown",
   "metadata": {
    "slideshow": {
     "slide_type": "slide"
    }
   },
   "source": [
    "<center><img alt=\"\" src=\"images/0_Cover.jpg\"/></center> \n",
    "\n",
    "## <center><font color=\"blue\">Modul 03: Pendahuluan Data Science I</font></center>\n",
    "<b><center>(C) Taufik Sutanto - 2019</center>\n",
    "<center>tau-data Indonesia ~ https://tau-data.id ~ taufik@tau-data.id</center>"
   ]
  },
  {
   "cell_type": "markdown",
   "metadata": {},
   "source": [
    "## <center><font color=\"blue\">Pendahuluan Data Science I: Exploratory Data Analysis</font></center>\n",
    "<img alt=\"\" src=\"images/PDS_logo.jpg\" />"
   ]
  },
  {
   "cell_type": "markdown",
   "metadata": {
    "slideshow": {
     "slide_type": "slide"
    }
   },
   "source": [
    "# <font color=\"blue\">Workshop Schedule</font>\n",
    "\n",
    "## <font color=\"green\">Hari ke-2 (Selasa, 28 Jan 2020)</font>\n",
    "\n",
    "**Pendahuluan Data Science I**\n",
    "* 09:00 – 11:00 Pendahuluan Data Science dan Big Data\n",
    "* 11:00 – 12:00\tPendahuluan Exploratory Data Analysis\n",
    "* 13:00 – 15:00\tBasic Statistics, Missing Values, & Outliers\n",
    "* 15:00 – 16.00\tLatihan Studi Kasus I\n",
    "\n",
    "Studi Kasus: **House Pricing**\n"
   ]
  },
  {
   "cell_type": "markdown",
   "metadata": {
    "slideshow": {
     "slide_type": "slide"
    }
   },
   "source": [
    "# <center><font color=\"blue\"> Industry 4.0</font></center>\n",
    "<center><img alt=\"\" src=\"images/BigData_AI_DS.jpg\"/></center>"
   ]
  },
  {
   "cell_type": "markdown",
   "metadata": {
    "slideshow": {
     "slide_type": "slide"
    }
   },
   "source": [
    "<center><img alt=\"\" src=\"images/industry_4.0.jpg\"/></center>"
   ]
  },
  {
   "cell_type": "markdown",
   "metadata": {
    "slideshow": {
     "slide_type": "slide"
    }
   },
   "source": [
    "# <center><font color=\"blue\">Industry 4.0 = \"Data\"</font></center>\n",
    "<center><font color=\"blue\"><img alt=\"\" src=\"images/data_4.0.jpg\" style=\"width: 800px; height: 591px;\" /></font></center>"
   ]
  },
  {
   "cell_type": "markdown",
   "metadata": {
    "slideshow": {
     "slide_type": "slide"
    }
   },
   "source": [
    "# <center><font color=\"blue\">Sejarah Singkat Big Data</font></center>\n",
    "\n",
    "<ul>\n",
    "\t<li>Istilah &ldquo;Big Data&rdquo; pertama kali muncul pada sebuah publikasi ilmiah resmi tahun 1997 di sebuah paper ilmiah NASA.</li>\n",
    "\t<li>Pada tahun 2001 Doug Laney kemudian memperkenalkan tiga sifat big data yang sangat terkenal dan digunakan oleh banyak ahli (konsensus) sebagai salah satu komponen utama yang harus muncul pada pembahasan big data, yaitu Volume, Variety, and Velocity.</li>\n",
    "\t<li>Istilah big data mulai populer sejak tahun 2008 oleh beberapa peneliti ilmu komputer Amerika yang memprediksi dalam paper mereka bahwa komputasi big data akan membawa dampak besar di berbagai bidang.</li>\n",
    "\t<li>semenjak sekitar tahun 2013 hingga saat ini aplikasi big data sudah cukup banyak ditemukan di industri swasta dan pemerintahan.</li>\n",
    "</ul>\n",
    "\n",
    "<center><img alt=\"\" src=\"images/BigData_history.png\" style=\"width: 800px; height: 436px;\" /></center>\n"
   ]
  },
  {
   "cell_type": "markdown",
   "metadata": {
    "slideshow": {
     "slide_type": "slide"
    }
   },
   "source": [
    "# <center><font color=\"blue\">Sebelum Era Big Data</font></center>\n",
    "\n",
    "<p><img alt=\"\" src=\"images/pre_BigData.png\"/></p>"
   ]
  },
  {
   "cell_type": "markdown",
   "metadata": {
    "slideshow": {
     "slide_type": "slide"
    }
   },
   "source": [
    "# <center><font color=\"blue\">Big Data Era</font></center>\n",
    "\n",
    "<center><img alt=\"\" src=\"images/BigData_Era.png\"/></center>"
   ]
  },
  {
   "cell_type": "markdown",
   "metadata": {},
   "source": [
    "# Apakah kita perlu handal di pemrograman untuk dapat mengaplikasikan Big Data Analytics atau Data Science?"
   ]
  },
  {
   "cell_type": "markdown",
   "metadata": {
    "slideshow": {
     "slide_type": "slide"
    }
   },
   "source": [
    "# <center><font color=\"blue\">Perkembangan data tidak terstruktur\n",
    "\n",
    "<center><img alt=\"\" src=\"images/unstructured_data_growth.jpg\"/>"
   ]
  },
  {
   "cell_type": "markdown",
   "metadata": {
    "slideshow": {
     "slide_type": "slide"
    }
   },
   "source": [
    "# <center><font color=\"blue\">Tipe Data\n",
    "\n",
    "<center><img alt=\"\" src=\"images/tipeData_1.png\"/>"
   ]
  },
  {
   "cell_type": "markdown",
   "metadata": {
    "slideshow": {
     "slide_type": "slide"
    }
   },
   "source": [
    "# <center><font color=\"blue\">Statistics - Data Mining\n",
    "\n",
    "<center><img alt=\"\" src=\"images/structured_models.png\"/>"
   ]
  },
  {
   "cell_type": "markdown",
   "metadata": {
    "slideshow": {
     "slide_type": "slide"
    }
   },
   "source": [
    "# <center><font color=\"blue\">Data Tidak Terstruktur\n",
    "\n",
    "<center><img alt=\"\" src=\"images/tipeData_2.png\"/>"
   ]
  },
  {
   "cell_type": "markdown",
   "metadata": {
    "slideshow": {
     "slide_type": "slide"
    }
   },
   "source": [
    "# <center><font color=\"blue\">Machine Learning - Deep Learning\n",
    "\n",
    "<center><img alt=\"\" src=\"images/ML_DL.png\"/>"
   ]
  },
  {
   "cell_type": "markdown",
   "metadata": {
    "slideshow": {
     "slide_type": "slide"
    }
   },
   "source": [
    "# <center><font color=\"blue\">Data Science\n",
    "\n",
    "<center><img alt=\"\" src=\"images/DataScience.png\"/>"
   ]
  },
  {
   "cell_type": "markdown",
   "metadata": {
    "slideshow": {
     "slide_type": "slide"
    }
   },
   "source": [
    "<p><img alt=\"\" src=\"images/hypes.png\" /></p>"
   ]
  },
  {
   "cell_type": "markdown",
   "metadata": {
    "slideshow": {
     "slide_type": "slide"
    }
   },
   "source": [
    "<p><img alt=\"\" src=\"images/ds_vs_theRest.jpg\"/></p>"
   ]
  },
  {
   "cell_type": "markdown",
   "metadata": {
    "slideshow": {
     "slide_type": "slide"
    }
   },
   "source": [
    "<center><img alt=\"\" src=\"images/ds_ka_.jpg\"/>"
   ]
  },
  {
   "cell_type": "markdown",
   "metadata": {
    "slideshow": {
     "slide_type": "slide"
    }
   },
   "source": [
    "# <center><font color=\"blue\">Data Science: Insights</font></center>\n",
    "\n",
    "<center><img alt=\"\" src=\"images/data2insight.png\" style=\"width: 600px; height: 533px;\" /></center>\n"
   ]
  },
  {
   "cell_type": "markdown",
   "metadata": {},
   "source": [
    "<center><img alt=\"\" src=\"images/my_ds.jpg\"/>"
   ]
  },
  {
   "cell_type": "markdown",
   "metadata": {
    "slideshow": {
     "slide_type": "slide"
    }
   },
   "source": [
    "<center><img alt=\"\" src=\"images/sed.jpg\" />"
   ]
  },
  {
   "cell_type": "markdown",
   "metadata": {
    "slideshow": {
     "slide_type": "slide"
    }
   },
   "source": [
    "<center><img alt=\"\" src=\"images/csiro.jpg\" />"
   ]
  },
  {
   "cell_type": "markdown",
   "metadata": {
    "slideshow": {
     "slide_type": "slide"
    }
   },
   "source": [
    "<center><img alt=\"\" src=\"images/ep_mining.jpg\" />"
   ]
  },
  {
   "cell_type": "markdown",
   "metadata": {},
   "source": [
    "# <center><font color=\"blue\">Deep Learning\n",
    "\n",
    "<p><img alt=\"\" src=\"images/5_DeepLearning.png\" style=\"width: 600px; height: 676px;\" /></p>\n",
    "<p><big>Yang menjadi pembeda utama DL dengan ML adalah DL &quot;<em>Learning representations from data</em>&quot;. Misal Word Embedding (bandingkan dengan VSM di Machine Learning).<br />\n",
    "Makna &quot;Deep&quot; di DL sendiri bermakna &quot;successive layers of representations&quot; biasa juga disebut sebagai&nbsp;<em>layered representations learning</em> atau <em>hierarchical representations learning</em>.</big></p>"
   ]
  },
  {
   "cell_type": "markdown",
   "metadata": {},
   "source": [
    "## Text Mining dan NLP?\n",
    "<p>Natural Language Processing (NLP) - Pemrosesan Bahasa Alami (PBA):&nbsp;</p>\n",
    "\n",
    "<p>\n",
    "&quot;<big><em>Sebuah cabang ilmu&nbsp;(AI/Computational Linguistik) yang mempelajari bagaimana&nbsp;bahasa (alami) manusia (terucap/tertulis) dapat dipahami dengan baik oleh komputer dan komputer dapat merespon dengan cara yang serupa ke manusia</em></big>&quot;.</p>"
   ]
  },
  {
   "cell_type": "markdown",
   "metadata": {},
   "source": [
    "<p><strong>Aplikasi Umum NLP:</strong></p>\n",
    "\n",
    "<ol>\n",
    "\t<li>Machine Translation (Misal&nbsp;https://translate.google.com/ )</li>\n",
    "\t<li>Information Retrieval (IR)&nbsp;(misal www.google.com, bing, elasticsearch, etc.)</li>\n",
    "\t<li>Man-Machine Interface (misal Siri, cortana, atau Alexa)</li>\n",
    "</ol>\n"
   ]
  },
  {
   "cell_type": "markdown",
   "metadata": {},
   "source": [
    "<p><strong>Apakah Perbedaan antara NLP dan Text Mining (TM)?</strong></p>\n",
    "\n",
    "<p>TM (terkadang disebut Text Analytics) adalah sebuah pemrosesan teks (biasanya dalam skala besar) untuk menghasilkan (generate) informasi atau insights. Untuk menghasilkan informasi TM menggunakan beberapa metode, termasuk NLP. TM mengolah teks secara eksplisit, sementara NLP mencoba mencari makna latent (tersembunyi) lewat aturan bahasa (e.g. grammar/idioms/Semantics).<br />\n",
    "<strong>Contoh aplikasi TM</strong> : Clustering, Klasifikasi, Social Media Analytics (SMA).</p>\n"
   ]
  },
  {
   "cell_type": "markdown",
   "metadata": {},
   "source": [
    "<p><img alt=\"https://www.kdnuggets.com/2017/11/framework-approaching-textual-data-tasks.html\" src=\"images/1_NLP_TextMining.jpg\" style=\"height: 470px; width: 600px;\" /></p>\n",
    "\n",
    "<p>[image source: <a href=\"https://www.elsevier.com/books/practical-text-mining-and-statistical-analysis-for-non-structured-text-data-applications/miner/978-0-12-386979-1\" target=\"_blank\">Gary M.:&quot;Practical Text Mining and Statistical Analysis for Non-structured Text Data Applications&quot;</a>]</p>\n"
   ]
  },
  {
   "cell_type": "markdown",
   "metadata": {},
   "source": [
    "<p><img alt=\"\" src=\"images/1_Text_Analytics.jpg\" style=\"height: 451px; width: 600px;\" /></p>\n",
    "\n",
    "<p>[Image Source: <a href=\"http://www.pearson.com.au/products/S-Z-Turban-Sharda/Business-Intelligence-and-Analytics-Systems-for-Decision-Support-Global-Edition/9781292009209?R=9781292009209\" target=\"_blank\">Efraim T. &quot;Business Intelligence and Analytics: Systems for Decision Support, Global Edition (10e)</a>&quot;]</p>\n"
   ]
  },
  {
   "cell_type": "markdown",
   "metadata": {},
   "source": [
    "# Text Analysis Pipeline\n",
    "\n",
    "<p><img alt=\"\" src=\"images\\2_Pipeline_Tokenization.png\" style=\"height:300px; width:768px\" /><br />\n",
    "[<a href=\"https://www.softwareadvice.com/resources/what-is-text-analytics/\" target=\"_blank\"><strong>Image Source</strong></a>]</p>"
   ]
  },
  {
   "cell_type": "markdown",
   "metadata": {},
   "source": [
    "# Text Mining Pipeline\n",
    "\n",
    "<p><img alt=\"\" src=\"images\\TextMining_PipeLine.jpg\" /><br />"
   ]
  },
  {
   "cell_type": "markdown",
   "metadata": {},
   "source": [
    "# PreProcessing:\n",
    "\n",
    "1. Symbol and stopWords filtering/removal (including URLS)\n",
    "2. Spell Check\n",
    "3. Lemma (or stemming)\n",
    "4. etc."
   ]
  },
  {
   "cell_type": "markdown",
   "metadata": {},
   "source": [
    "# Document Representation\n",
    "\n",
    "* Bag of Words/Vector Space Model: tf-idf, BM25, SPH04, etc.\n",
    "* Embedding Models: Word2Vec, FastText\n",
    "* Compressed Representations: TopSig, etc"
   ]
  },
  {
   "cell_type": "markdown",
   "metadata": {},
   "source": [
    "# <center><font color=\"blue\">Social Media Analytics\n",
    "\n",
    "<ul>\n",
    "\t<li>NLP, Text Mining (Deep Learning) di aplikasikan dengan data yang berasal dari Media Sosial</li>\n",
    "\t<li>Data relatif lebih mudah di dapatkan dan uptodate.</li>\n",
    "\t<li>Tantangan riset: Temporal, short, noise, volume, velocity, variety.</li>\n",
    "\t<li>Aplikasi di berbagai bidang: Marketing, politik, bencana, bisnis (retail), dll.</li>\n",
    "\t<li>Dapat berupa model Klasifikasi, topic modelling, ..., bahkan Graph dan time series problems</li>\n",
    "</ul>\n",
    "\n",
    "<p><img alt=\"\" src=\"images/sma.jpg\" style=\"width: 800px; height: 406px;\" /></p>\n"
   ]
  },
  {
   "cell_type": "markdown",
   "metadata": {
    "slideshow": {
     "slide_type": "slide"
    }
   },
   "source": [
    "# <center><font color=\"blue\">Pro-Kontra Big Data\n",
    "<center><img alt=\"\" src=\"images/pro-contra.jpg\" />"
   ]
  },
  {
   "cell_type": "markdown",
   "metadata": {
    "slideshow": {
     "slide_type": "slide"
    }
   },
   "source": [
    "<center><img alt=\"\" src=\"images/dataKomputasi_Architecture.jpg\" />"
   ]
  },
  {
   "cell_type": "markdown",
   "metadata": {
    "slideshow": {
     "slide_type": "slide"
    }
   },
   "source": [
    "<center><img alt=\"\" src=\"images/hace.jpg\" />"
   ]
  },
  {
   "cell_type": "markdown",
   "metadata": {
    "slideshow": {
     "slide_type": "slide"
    }
   },
   "source": [
    "<center><img alt=\"\" src=\"images/bd_frameworks.jpg\" />"
   ]
  },
  {
   "cell_type": "markdown",
   "metadata": {
    "slideshow": {
     "slide_type": "slide"
    }
   },
   "source": [
    "# <center><font color=\"blue\">Big Data: Not always Sunshine and Rainbows\n",
    "<center><img alt=\"\" src=\"images/failed_bigdata.png\" />"
   ]
  },
  {
   "cell_type": "markdown",
   "metadata": {
    "slideshow": {
     "slide_type": "slide"
    }
   },
   "source": [
    "# <center><font color=\"blue\">Kelemahan dan Kelebihan setiap metode\n",
    "<center><img alt=\"\" src=\"images/plusMinus_bd.png\" />"
   ]
  },
  {
   "cell_type": "markdown",
   "metadata": {
    "slideshow": {
     "slide_type": "slide"
    }
   },
   "source": [
    "# <center><font color=\"blue\">Cara Optimal big data utilization\n",
    "* Sesuaikan pemilihan teknologi dan frameworks dengan analisa yg diinginkan\n",
    "* Batch or streaming?\n",
    "* Text or image?\n",
    "* All Data : generate new business\n",
    "* Micro models\n",
    "* Velocity = realtime actions\n",
    "* Domain Knowledge + Latest DS Methods"
   ]
  },
  {
   "cell_type": "markdown",
   "metadata": {
    "slideshow": {
     "slide_type": "slide"
    }
   },
   "source": [
    "# <center><font color=\"blue\">Potensi Kreativitas yang Tak Berbatas di Era Digital\n",
    "<center><img alt=\"\" src=\"images/creativity_business.png\" />"
   ]
  },
  {
   "cell_type": "markdown",
   "metadata": {
    "slideshow": {
     "slide_type": "slide"
    }
   },
   "source": [
    "# <center><font color=\"blue\">AI/ML Expected Outcomes\n",
    "<center><img alt=\"\" src=\"images/ml_ai_outcomes.jpg\" />"
   ]
  },
  {
   "cell_type": "markdown",
   "metadata": {},
   "source": [
    "# <center><font color=\"blue\">Cyclic instead of Linear Process\n",
    "<center><img alt=\"\" src=\"images/linear_cyclic.png\" />\n",
    "\n",
    "### Similar to 6 Sigma/TQM"
   ]
  },
  {
   "cell_type": "markdown",
   "metadata": {
    "slideshow": {
     "slide_type": "slide"
    }
   },
   "source": [
    "# <center><font color=\"blue\">Pada tahap Awal Implementasi Tentukan Terlebih Dahulu Analisa yang akan di Aplikasikan</font></center>\n",
    "\n",
    "<center><img alt=\"\" src=\"images/predictive_business.png\" style=\"width: 800px; height: 413px;\" /></center>\n"
   ]
  },
  {
   "cell_type": "markdown",
   "metadata": {
    "slideshow": {
     "slide_type": "slide"
    }
   },
   "source": [
    "# <center><font color=\"blue\">Pertimbangkan antara Analytics Maturity VS Data Needs\n",
    "<center><img alt=\"\" src=\"images/Data_Needs_Maturity_Level.png\" /></center>"
   ]
  },
  {
   "cell_type": "markdown",
   "metadata": {
    "slideshow": {
     "slide_type": "slide"
    }
   },
   "source": [
    "# <center><font color=\"blue\">DS~BD in Marketing (Challenge)\n",
    "<center><img alt=\"\" src=\"images/business_app_challenge.jpg\" />"
   ]
  },
  {
   "cell_type": "markdown",
   "metadata": {
    "slideshow": {
     "slide_type": "slide"
    }
   },
   "source": [
    "<center><img alt=\"\" src=\"images/kolaborasi.png\" />"
   ]
  },
  {
   "cell_type": "markdown",
   "metadata": {},
   "source": [
    "# Pendahuluan:\n",
    "\n",
    "Exploratory Data Analysis (EDA) bagaikan jiwa bagi semua proses analisa data. Kemampuan untuk melakukan EDA dengan baik adalah syarat dasar utama bagi seluruh profesi yang terkait dengan pengolahan data, baik itu business intelligence, data analyst, data scientist, dan sebagainya. EDA juga menjadi tahapan awal dari kebanyakan proses analisa data dan menjadi suatu tahapan yang amat menentukan seberapa baik analisa data selanjutnya akan dihasilkan.\n",
    "\n",
    "Komponen EDA meliputi preprocessing, perhitungan berbagai nilai statistics dasar (e.g. ukuran pusat dan penyebaran data), visualisasi, penyusunan hipotesis (dugaan awal), pemeriksaan asumsi, hingga story-telling dan reporting. Di dalamnya juga termasuk proses penanganan missing values, outlier, reduksi dimensi, pengelompokkan, transformasi dan distribusi data."
   ]
  },
  {
   "cell_type": "markdown",
   "metadata": {},
   "source": [
    "# Exploratory Data Analysis (EDA)\n",
    "\n",
    "* Diperkenalkan oleh John Tukey 1961: \" _Procedures for analyzing data, techniques for interpreting the results of such procedures, ways of planning the gathering of data to make its analysis easier, more precise or more accurate, and all the machinery and results of (mathematical) statistics which apply to analyzing data._\"\n",
    "* Tukey promoted the use of five number summary of numerical data—the two extremes (maximum and minimum), the median, and the quartiles.\n",
    "* EDA refers to the critical process of performing **initial investigations on data** so as to discover patterns,to spot **anomalies**,to test hypothesis and to **check assumptions** with the help of **summary statistics and graphical representations**.\n",
    "* Tools: Python, R, S-Plus, etc\n",
    "\n",
    "<p><img alt=\"\" src=\"images/edamethods.png\" /></p>"
   ]
  },
  {
   "cell_type": "markdown",
   "metadata": {},
   "source": [
    "# Data Visualizations\n",
    "<p><img alt=\"\" src=\"images/Purpose_Visualize_Data.jpg\" /></p>"
   ]
  },
  {
   "cell_type": "markdown",
   "metadata": {},
   "source": [
    "# Tujuan EDA\n",
    "\n",
    "* **Suggest hypotheses** about the causes of observed phenomena\n",
    "* **Assess assumptions** on which statistical inference will be based\n",
    "* Support the **selection of appropriate statistical techniques**\n",
    "* Provide a basis for further data collection"
   ]
  },
  {
   "cell_type": "code",
   "execution_count": null,
   "metadata": {},
   "outputs": [],
   "source": [
    "# Importing Some Python Modules\n",
    "import scipy, itertools, pandas as pd, matplotlib.pyplot as plt, seaborn as sns, numpy as np\n",
    "import warnings; warnings.simplefilter('ignore')\n",
    "from statsmodels.graphics.mosaicplot import mosaic\n",
    "from scipy import stats\n",
    "from sklearn.preprocessing import StandardScaler, MinMaxScaler\n",
    "from mpl_toolkits.mplot3d import Axes3D\n",
    "import matplotlib.cm as cm\n",
    "\n",
    "%matplotlib inline\n",
    "plt.style.use('bmh'); sns.set()"
   ]
  },
  {
   "cell_type": "markdown",
   "metadata": {},
   "source": [
    "# Exploring Numerical Variables"
   ]
  },
  {
   "cell_type": "code",
   "execution_count": null,
   "metadata": {},
   "outputs": [],
   "source": [
    "# Importing our data example\n",
    "\n",
    "tips=sns.load_dataset('tips')\n",
    "print(tips.info())\n",
    "tips.head()"
   ]
  },
  {
   "cell_type": "code",
   "execution_count": null,
   "metadata": {},
   "outputs": [],
   "source": [
    "# categorical = tips.select_dtypes(include = ['category']).columns\n",
    "fig, ax = plt.subplots(2, 2, figsize=(20, 10))\n",
    "for variable, subplot in zip(categorical, ax.flatten()):\n",
    "    sns.countplot(tips[variable], ax=subplot)\n",
    "    #for label in subplot.get_xticklabels():\n",
    "    #    label.set_rotation(90)"
   ]
  },
  {
   "cell_type": "code",
   "execution_count": null,
   "metadata": {},
   "outputs": [],
   "source": [
    "ax.flatten()"
   ]
  },
  {
   "cell_type": "markdown",
   "metadata": {},
   "source": [
    "## Numerical Data\n",
    "\n",
    "- Integer\n",
    "- Float\n",
    "\n",
    "<img alt=\"\" src=\"images/Pandas_DataTypes.png\"/>\n",
    "[image source: https://pbpython.com/pandas_dtypes_cat.html]"
   ]
  },
  {
   "cell_type": "markdown",
   "metadata": {},
   "source": [
    "# 1. histogram\n",
    "\n",
    "https://en.wikipedia.org/wiki/Histogram"
   ]
  },
  {
   "cell_type": "code",
   "execution_count": null,
   "metadata": {},
   "outputs": [],
   "source": [
    "numerical = tips.select_dtypes(include = ['int64','float64']).columns\n",
    "print(numerical)\n",
    "col = 'size'\n",
    "\n",
    "sns.set(style='whitegrid', palette=\"deep\", font_scale=1.1, rc={\"figure.figsize\": [8, 5]})\n",
    "sns.distplot(tips[col], norm_hist=False, kde=True, bins=20, hist_kws={\"alpha\": 1}).set(xlabel=variable, ylabel='Count');"
   ]
  },
  {
   "cell_type": "code",
   "execution_count": null,
   "metadata": {},
   "outputs": [],
   "source": [
    "tips[numerical].hist(bins=15, figsize=(15, 6), layout=(2, 4));"
   ]
  },
  {
   "cell_type": "code",
   "execution_count": null,
   "metadata": {},
   "outputs": [],
   "source": [
    "tips.head()"
   ]
  },
  {
   "cell_type": "markdown",
   "metadata": {},
   "source": [
    "# Distribution Plot"
   ]
  },
  {
   "cell_type": "code",
   "execution_count": null,
   "metadata": {},
   "outputs": [],
   "source": [
    "plt.subplots(figsize=(10,8))\n",
    "sns.distplot(tips.total_bill[tips.total_bill > 5], label='Total Bill').legend()\n",
    "\n",
    "plt.xlabel('Total Bill')\n",
    "plt.ylabel('Normalized Distribution')\n",
    "plt.title('Total Bill Distribution')\n",
    "plt.show()"
   ]
  },
  {
   "cell_type": "markdown",
   "metadata": {},
   "source": [
    "# Scatter Plot\n",
    "\n",
    "https://en.wikipedia.org/wiki/Scatter_plot"
   ]
  },
  {
   "cell_type": "code",
   "execution_count": null,
   "metadata": {},
   "outputs": [],
   "source": [
    "p = sns.scatterplot(x=tips['total_bill'], y=tips['tip'], hue = tips['day'])"
   ]
  },
  {
   "cell_type": "markdown",
   "metadata": {},
   "source": [
    "# Joined"
   ]
  },
  {
   "cell_type": "code",
   "execution_count": null,
   "metadata": {},
   "outputs": [],
   "source": [
    "p = sns.jointplot(x=tips['total_bill'], y=tips['tip'])"
   ]
  },
  {
   "cell_type": "markdown",
   "metadata": {},
   "source": [
    "# Conditional Plot"
   ]
  },
  {
   "cell_type": "code",
   "execution_count": null,
   "metadata": {},
   "outputs": [],
   "source": [
    "cond_plot = sns.FacetGrid(data=tips, col='sex', hue='smoker', hue_order=[\"Yes\", \"No\"])\n",
    "p = cond_plot.map(sns.scatterplot, 'total_bill', 'tip').add_legend()"
   ]
  },
  {
   "cell_type": "markdown",
   "metadata": {},
   "source": [
    "# Pairwise Plot\n",
    "\n",
    "https://towardsdatascience.com/visualizing-data-with-pair-plots-in-python-f228cf529166"
   ]
  },
  {
   "cell_type": "code",
   "execution_count": null,
   "metadata": {},
   "outputs": [],
   "source": [
    "p = sns.pairplot(tips, hue=\"sex\")"
   ]
  },
  {
   "cell_type": "code",
   "execution_count": null,
   "metadata": {},
   "outputs": [],
   "source": [
    "%timeit\n",
    "tips.day.unique()"
   ]
  },
  {
   "cell_type": "code",
   "execution_count": null,
   "metadata": {},
   "outputs": [],
   "source": [
    "%timeit\n",
    "set(tips['day'])"
   ]
  },
  {
   "cell_type": "code",
   "execution_count": null,
   "metadata": {},
   "outputs": [],
   "source": [
    "tips.head()"
   ]
  },
  {
   "cell_type": "markdown",
   "metadata": {},
   "source": [
    "# Exploring Categorical Variables"
   ]
  },
  {
   "cell_type": "code",
   "execution_count": null,
   "metadata": {
    "ExecuteTime": {
     "end_time": "2019-10-04T01:14:09.337251Z",
     "start_time": "2019-10-04T01:14:09.232811Z"
    }
   },
   "outputs": [],
   "source": [
    "tips=sns.load_dataset('tips')\n",
    "print(tips.info())\n",
    "tips.head()"
   ]
  },
  {
   "cell_type": "code",
   "execution_count": null,
   "metadata": {
    "ExecuteTime": {
     "end_time": "2019-10-04T01:14:49.789997Z",
     "start_time": "2019-10-04T01:14:49.771279Z"
    }
   },
   "outputs": [],
   "source": [
    "objs = tips.select_dtypes(include = ['category'])\n",
    "for col in objs.columns:\n",
    "    pjg = len(set(tips[col].unique()))\n",
    "    if pjg<12:\n",
    "        print(col,': ', set(tips[col].unique()))\n",
    "    else:\n",
    "        print(col,': ', len(set(tips[col].unique())))"
   ]
  },
  {
   "cell_type": "code",
   "execution_count": null,
   "metadata": {
    "ExecuteTime": {
     "end_time": "2019-10-04T01:15:17.083960Z",
     "start_time": "2019-10-04T01:15:17.055361Z"
    }
   },
   "outputs": [],
   "source": [
    "dots=sns.load_dataset('dots')\n",
    "print(dots.info())\n",
    "dots.head()"
   ]
  },
  {
   "cell_type": "code",
   "execution_count": null,
   "metadata": {
    "ExecuteTime": {
     "end_time": "2019-10-04T01:15:48.282324Z",
     "start_time": "2019-10-04T01:15:48.269135Z"
    }
   },
   "outputs": [],
   "source": [
    "objs = dots.select_dtypes(include = ['object'])\n",
    "for col in objs.columns:\n",
    "    pjg = len(set(dots[col].unique()))\n",
    "    if pjg<12:\n",
    "        print(col,': ', set(dots[col].unique()))\n",
    "    else:\n",
    "        print(col,': ', len(set(dots[col].unique())))"
   ]
  },
  {
   "cell_type": "markdown",
   "metadata": {},
   "source": [
    "## So what is the different?\n",
    "\n",
    "- Category finite dan generally faster\n",
    "- Great way to inform user or other function on how to treat the variable\n",
    "\n",
    "<img alt=\"\" src=\"images/Pandas_DataTypes.png\"/>\n",
    "\n",
    "\n",
    "[image source: https://pbpython.com/pandas_dtypes_cat.html]"
   ]
  },
  {
   "cell_type": "markdown",
   "metadata": {},
   "source": [
    "# Categorical Data Visualizations"
   ]
  },
  {
   "cell_type": "code",
   "execution_count": null,
   "metadata": {
    "ExecuteTime": {
     "end_time": "2019-10-04T02:24:54.030560Z",
     "start_time": "2019-10-04T02:24:53.878562Z"
    }
   },
   "outputs": [],
   "source": [
    "# 1. BarChart\n",
    "x = sns.countplot(x=\"day\", data=tips)"
   ]
  },
  {
   "cell_type": "code",
   "execution_count": null,
   "metadata": {
    "ExecuteTime": {
     "end_time": "2019-10-04T02:20:48.557235Z",
     "start_time": "2019-10-04T02:20:48.466408Z"
    }
   },
   "outputs": [],
   "source": [
    "p."
   ]
  },
  {
   "cell_type": "markdown",
   "metadata": {},
   "source": [
    "## Add labels?"
   ]
  },
  {
   "cell_type": "code",
   "execution_count": null,
   "metadata": {
    "ExecuteTime": {
     "end_time": "2019-10-04T01:28:39.513508Z",
     "start_time": "2019-10-04T01:28:39.506562Z"
    }
   },
   "outputs": [],
   "source": [
    "A = ['a','d', 'g', 't']\n",
    "B = [3,4,6,6,7,8,4]\n",
    "\n",
    "for i,j in zip(A,B):\n",
    "    print(i,j)\n",
    "    \n",
    "#C = [('a',3), ('d',4),('g',6)]\n",
    "##for i,j in C:\n",
    "#    print(i,j)"
   ]
  },
  {
   "cell_type": "code",
   "execution_count": null,
   "metadata": {
    "ExecuteTime": {
     "end_time": "2019-10-04T01:32:57.241981Z",
     "start_time": "2019-10-04T01:32:57.041810Z"
    }
   },
   "outputs": [],
   "source": [
    "col = 'day'\n",
    "ax = sns.countplot(x=col, data=tips)\n",
    "for p, label in zip(ax.patches, tips[col].value_counts().values):\n",
    "    ax.annotate(label, (p.get_x()+0.4, p.get_height()+1))\n",
    "# Perhatikan variabel AX"
   ]
  },
  {
   "cell_type": "code",
   "execution_count": null,
   "metadata": {
    "ExecuteTime": {
     "end_time": "2019-10-04T01:29:57.659749Z",
     "start_time": "2019-10-04T01:29:57.653765Z"
    }
   },
   "outputs": [],
   "source": [
    "ax.patches.get_(x"
   ]
  },
  {
   "cell_type": "code",
   "execution_count": null,
   "metadata": {
    "ExecuteTime": {
     "end_time": "2019-10-04T01:31:15.809292Z",
     "start_time": "2019-10-04T01:31:15.800350Z"
    }
   },
   "outputs": [],
   "source": []
  },
  {
   "cell_type": "markdown",
   "metadata": {},
   "source": [
    "# When we care about percentage and not the real count: PieChart"
   ]
  },
  {
   "cell_type": "code",
   "execution_count": null,
   "metadata": {
    "ExecuteTime": {
     "end_time": "2019-10-04T01:34:16.882456Z",
     "start_time": "2019-10-04T01:34:16.811648Z"
    }
   },
   "outputs": [],
   "source": [
    "p = tips.sex.value_counts().plot(kind='pie')"
   ]
  },
  {
   "cell_type": "markdown",
   "metadata": {},
   "source": [
    "# Show percentage?"
   ]
  },
  {
   "cell_type": "code",
   "execution_count": null,
   "metadata": {
    "ExecuteTime": {
     "end_time": "2019-10-04T01:38:41.609611Z",
     "start_time": "2019-10-04T01:38:41.601181Z"
    }
   },
   "outputs": [],
   "source": [
    "c = tips['sex'].value_counts()\n",
    "print(c)\n",
    "print(type(c))"
   ]
  },
  {
   "cell_type": "code",
   "execution_count": null,
   "metadata": {
    "ExecuteTime": {
     "end_time": "2019-10-04T01:39:09.081422Z",
     "start_time": "2019-10-04T01:39:09.074207Z"
    }
   },
   "outputs": [],
   "source": [
    "len(c.index)"
   ]
  },
  {
   "cell_type": "code",
   "execution_count": null,
   "metadata": {
    "ExecuteTime": {
     "end_time": "2019-10-04T02:18:13.733951Z",
     "start_time": "2019-10-04T02:18:13.644644Z"
    }
   },
   "outputs": [],
   "source": [
    "values = c.values\n",
    "colors = ['green', 'red']\n",
    "labels = c.index\n",
    "explode = (0.2, 0)\n",
    "plt.pie(values, colors=colors, labels= values, explode=explode, shadow=True)\n",
    "plt.title('Pelanggan Pria dan Wanita')\n",
    "plt.legend(labels,loc='best')\n",
    "plt.show()"
   ]
  },
  {
   "cell_type": "code",
   "execution_count": null,
   "metadata": {
    "ExecuteTime": {
     "end_time": "2019-10-04T02:18:54.680325Z",
     "start_time": "2019-10-04T02:18:54.675375Z"
    }
   },
   "outputs": [],
   "source": [
    "a = 3\n",
    "b = 2\n",
    "\n",
    "print(a)\n",
    "b"
   ]
  },
  {
   "cell_type": "markdown",
   "metadata": {},
   "source": [
    "## More complicated categorical visualization"
   ]
  },
  {
   "cell_type": "code",
   "execution_count": null,
   "metadata": {
    "ExecuteTime": {
     "end_time": "2019-10-04T01:43:22.800247Z",
     "start_time": "2019-10-04T01:43:22.791344Z"
    }
   },
   "outputs": [],
   "source": [
    "print(tips.select_dtypes(include = ['category']).columns)"
   ]
  },
  {
   "cell_type": "code",
   "execution_count": null,
   "metadata": {
    "ExecuteTime": {
     "end_time": "2019-10-04T01:50:43.939596Z",
     "start_time": "2019-10-04T01:50:43.673694Z"
    }
   },
   "outputs": [],
   "source": [
    "ax = sns.countplot(x = 'day', hue = 'sex', data=tips)\n",
    "# Semakin mudah fungsi visualisasi, maka semakin sulit utk di kustomisasi\n",
    "# Cara diatas sdh sulit digunakan karena struktur data di ax sdh tidak memuat data\n",
    "tips.groupby([\"day\", \"sex\"]).size().unstack() # Trick sederhana menghindari pemrograman yg overwhelming"
   ]
  },
  {
   "cell_type": "markdown",
   "metadata": {},
   "source": [
    "# Adding labels? ... Hhhmmm..."
   ]
  },
  {
   "cell_type": "code",
   "execution_count": null,
   "metadata": {
    "ExecuteTime": {
     "end_time": "2019-10-04T01:44:49.830442Z",
     "start_time": "2019-10-04T01:44:49.820166Z"
    }
   },
   "outputs": [],
   "source": [
    "def groupedbarplot(df, width=0.8, annotate=\"values\", ax=None, **kw):\n",
    "    ax = ax or plt.gca()\n",
    "    n = len(df.columns)\n",
    "    w = 1./n\n",
    "    pos = (np.linspace(w/2., 1-w/2., n)-0.5)*width\n",
    "    w *= width\n",
    "    bars = []\n",
    "    for col, x in zip(df.columns, pos):\n",
    "        bars.append(ax.bar(np.arange(len(df))+x, df[col].values, width=w, **kw))\n",
    "        # matplotlib.pyplot.bar(x, height, width=0.8, bottom=None, *, align='center', data=None, **kwargs)\n",
    "        for val, xi in zip(df[col].values, np.arange(len(df))+x):\n",
    "            if annotate:\n",
    "                txt = val if annotate == \"values\" else col\n",
    "                ax.annotate(txt, xy=(xi, val), xytext=(0,2), \n",
    "                            textcoords=\"offset points\",\n",
    "                            ha=\"center\", va=\"bottom\")\n",
    "    ax.set_xticks(np.arange(len(df)))\n",
    "    ax.set_xticklabels(df.index)\n",
    "    return bars"
   ]
  },
  {
   "cell_type": "code",
   "execution_count": null,
   "metadata": {
    "ExecuteTime": {
     "end_time": "2019-10-04T01:47:54.957266Z",
     "start_time": "2019-10-04T01:47:54.649531Z"
    }
   },
   "outputs": [],
   "source": [
    "counts = tips.groupby([\"day\", \"sex\"]).size().unstack()\n",
    "plt.figure(figsize=(16,12))\n",
    "groupedbarplot(counts)\n",
    "#plt.legend(loc='best')\n",
    "plt.show()"
   ]
  },
  {
   "cell_type": "code",
   "execution_count": null,
   "metadata": {
    "ExecuteTime": {
     "end_time": "2019-10-04T01:49:38.340686Z",
     "start_time": "2019-10-04T01:49:38.324336Z"
    }
   },
   "outputs": [],
   "source": [
    "tips.groupby([\"day\", \"sex\"]).size().unstack()"
   ]
  },
  {
   "cell_type": "markdown",
   "metadata": {},
   "source": [
    "# Horizontal? Why?"
   ]
  },
  {
   "cell_type": "code",
   "execution_count": null,
   "metadata": {
    "ExecuteTime": {
     "end_time": "2019-10-04T01:54:10.005884Z",
     "start_time": "2019-10-04T01:54:09.808226Z"
    }
   },
   "outputs": [],
   "source": [
    "ax = sns.countplot(y = col, hue = 'sex', palette = 'muted', data=tips)"
   ]
  },
  {
   "cell_type": "code",
   "execution_count": null,
   "metadata": {
    "ExecuteTime": {
     "end_time": "2019-10-04T01:55:35.004440Z",
     "start_time": "2019-10-04T01:55:33.850484Z"
    }
   },
   "outputs": [],
   "source": [
    "kolom = tips.select_dtypes(include = ['category']).columns\n",
    "for col in kolom:\n",
    "    plt.figure()\n",
    "    ax = sns.countplot(y = col, hue = 'sex', palette = 'muted', data=tips)"
   ]
  },
  {
   "cell_type": "markdown",
   "metadata": {},
   "source": [
    "# Two-Way Tables (contingency tables)"
   ]
  },
  {
   "cell_type": "code",
   "execution_count": null,
   "metadata": {
    "ExecuteTime": {
     "end_time": "2019-10-04T02:02:49.970472Z",
     "start_time": "2019-10-04T02:02:49.940904Z"
    }
   },
   "outputs": [],
   "source": [
    "CT = pd.crosstab(index=tips[\"sex\"], columns=tips[\"day\"])\n",
    "CT"
   ]
  },
  {
   "cell_type": "markdown",
   "metadata": {},
   "source": [
    "# Stacked/Segmented Chart"
   ]
  },
  {
   "cell_type": "code",
   "execution_count": null,
   "metadata": {
    "ExecuteTime": {
     "end_time": "2019-10-03T21:06:45.238692Z",
     "start_time": "2019-10-03T21:06:45.038359Z"
    }
   },
   "outputs": [],
   "source": [
    "p = CT.plot(kind=\"bar\", figsize=(8,8), stacked=True)"
   ]
  },
  {
   "cell_type": "markdown",
   "metadata": {},
   "source": [
    "# Mixing Categorical and Numerical Variable in A visualization\n",
    "\n",
    "## Warning on the interpretation of the graph!!!..."
   ]
  },
  {
   "cell_type": "code",
   "execution_count": null,
   "metadata": {
    "ExecuteTime": {
     "end_time": "2019-10-04T02:05:41.467176Z",
     "start_time": "2019-10-04T02:05:41.271181Z"
    }
   },
   "outputs": [],
   "source": [
    "p = sns.barplot(x='sex',y='total_bill',data=tips)"
   ]
  },
  {
   "cell_type": "markdown",
   "metadata": {},
   "source": [
    "# BoxPlot\n",
    "\n",
    "A box plot (or box-and-whisker plot) shows the distribution of quantitative data in a way that facilitates comparisons between variables or across levels of a categorical variable. The box shows the quartiles of the dataset while the whiskers extend to show the rest of the distribution, except for points that are determined to be “outliers” using a method that is a function of the inter-quartile range."
   ]
  },
  {
   "cell_type": "code",
   "execution_count": null,
   "metadata": {
    "ExecuteTime": {
     "end_time": "2019-10-04T02:07:58.416033Z",
     "start_time": "2019-10-04T02:07:58.152698Z"
    }
   },
   "outputs": [],
   "source": [
    "p= sns.boxplot(x='day',y='tip',data=tips, palette='muted')"
   ]
  },
  {
   "cell_type": "markdown",
   "metadata": {},
   "source": [
    "# Interpretasi?"
   ]
  },
  {
   "cell_type": "markdown",
   "metadata": {},
   "source": [
    "# Mixing -- Swarn Plot\n",
    "\n",
    "The swarmplot  points are adjusted (only along the categorical axis) so that they don’t overlap. This gives a better representation of the distribution of values, although it does not scale as well to large numbers of observations (both in terms of the ability to show all the points and in terms of the computation needed to arrange them).\n"
   ]
  },
  {
   "cell_type": "code",
   "execution_count": null,
   "metadata": {
    "ExecuteTime": {
     "end_time": "2019-10-04T02:12:06.032044Z",
     "start_time": "2019-10-04T02:12:05.579796Z"
    }
   },
   "outputs": [],
   "source": [
    "p= sns.catplot(x=\"day\", y=\"total_bill\", hue=\"sex\", kind=\"swarm\", data=tips)"
   ]
  },
  {
   "cell_type": "markdown",
   "metadata": {},
   "source": [
    "## Apakah ada kecenderungan hari menentukan besar tips?\n",
    "\n",
    "## Untuk mengambil kesimpulan ini hal apa yang harus di verifikasi?"
   ]
  },
  {
   "cell_type": "markdown",
   "metadata": {},
   "source": [
    "# Violin Plot\n",
    "\n",
    "A violin plot plays a similar role as a box and whisker plot. It shows the distribution of quantitative data across several levels of one (or more) categorical variables such that those distributions can be compared. Unlike a box plot, in which all of the plot components correspond to actual datapoints, the violin plot features a kernel density estimation (KDE) of the underlying distribution."
   ]
  },
  {
   "cell_type": "code",
   "execution_count": null,
   "metadata": {
    "ExecuteTime": {
     "end_time": "2019-10-03T21:13:17.713455Z",
     "start_time": "2019-10-03T21:13:17.562854Z"
    }
   },
   "outputs": [],
   "source": [
    "p = sns.violinplot(x=\"day\", y=\"total_bill\", data=tips,palette='rainbow')"
   ]
  },
  {
   "cell_type": "markdown",
   "metadata": {},
   "source": [
    "# KDE?"
   ]
  },
  {
   "cell_type": "code",
   "execution_count": null,
   "metadata": {
    "ExecuteTime": {
     "end_time": "2019-10-04T02:14:12.675778Z",
     "start_time": "2019-10-04T02:14:12.388703Z"
    }
   },
   "outputs": [],
   "source": [
    "p = sns.distplot(tips['tip'], kde=True, rug=True)"
   ]
  },
  {
   "cell_type": "markdown",
   "metadata": {},
   "source": [
    "# Mosaic Plot for multiple categorical data analysis"
   ]
  },
  {
   "cell_type": "code",
   "execution_count": null,
   "metadata": {
    "ExecuteTime": {
     "end_time": "2019-10-04T02:15:06.890000Z",
     "start_time": "2019-10-04T02:15:06.528822Z"
    }
   },
   "outputs": [],
   "source": [
    "p = mosaic(tips, ['sex','smoker','time'])"
   ]
  },
  {
   "cell_type": "markdown",
   "metadata": {},
   "source": [
    "# Transforming categorical Variables for Further Analysis (Advanced Models)\n",
    "\n",
    "\n",
    "* Cara: https://github.com/curious-attempt-bunny/ml-info/blob/master/How%20to%20handle%20categorical%20data%20in%20scikit%20with%20pandas.ipynb \n",
    "\n",
    "* More advanced encoding & Analisis Performa: http://www.willmcginnis.com/2015/11/29/beyond-one-hot-an-exploration-of-categorical-variables/?fbclid=IwAR0CGh0Ibibd7NWlpY7I-dDV3e4yo435azbumgEe9VKcYhdCJZ9GWsE39r8"
   ]
  },
  {
   "cell_type": "markdown",
   "metadata": {},
   "source": [
    "# Further reading:\n",
    "\n",
    "https://www.tandfonline.com/doi/pdf/10.1080/10447310701702519"
   ]
  },
  {
   "cell_type": "markdown",
   "metadata": {
    "slideshow": {
     "slide_type": "slide"
    }
   },
   "source": [
    "# <center><font color=\"blue\"> End of Module 03\n",
    "\n",
    "<hr />\n",
    "<p><img alt=\"\" src=\"images/1_BigData_MeMe.png\" /></p>"
   ]
  }
 ],
 "metadata": {
  "celltoolbar": "Slideshow",
  "kernelspec": {
   "display_name": "Python 3",
   "language": "python",
   "name": "python3"
  },
  "language_info": {
   "codemirror_mode": {
    "name": "ipython",
    "version": 3
   },
   "file_extension": ".py",
   "mimetype": "text/x-python",
   "name": "python",
   "nbconvert_exporter": "python",
   "pygments_lexer": "ipython3",
   "version": "3.6.8"
  }
 },
 "nbformat": 4,
 "nbformat_minor": 2
}
